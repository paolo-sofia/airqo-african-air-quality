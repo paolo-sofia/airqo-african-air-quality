{
 "cells": [
  {
   "cell_type": "code",
   "execution_count": 142,
   "id": "initial_id",
   "metadata": {
    "collapsed": true,
    "ExecuteTime": {
     "end_time": "2024-04-16T11:53:21.435628Z",
     "start_time": "2024-04-16T11:53:21.430597Z"
    }
   },
   "outputs": [
    {
     "data": {
      "text/plain": "True"
     },
     "execution_count": 142,
     "metadata": {},
     "output_type": "execute_result"
    }
   ],
   "source": [
    "import pandas as pd\n",
    "import numpy as np\n",
    "import os\n",
    "from dotenv import load_dotenv\n",
    "\n",
    "load_dotenv()"
   ]
  },
  {
   "cell_type": "code",
   "outputs": [
    {
     "data": {
      "text/plain": "              id                   site_id  site_latitude  site_longitude  \\\n0  id_vjcx08sz91  6531a46a89b3300013914a36        6.53257         3.39936   \n1  id_bkg215syli  6531a46a89b3300013914a36        6.53257         3.39936   \n2  id_oui2pot3qd  6531a46a89b3300013914a36        6.53257         3.39936   \n3  id_9aandqzy4n  6531a46a89b3300013914a36        6.53257         3.39936   \n4  id_ali5x2m4iw  6531a46a89b3300013914a36        6.53257         3.39936   \n\n    city  country        date  hour  sulphurdioxide_so2_column_number_density  \\\n0  Lagos  Nigeria  2023-10-25    13                                       NaN   \n1  Lagos  Nigeria  2023-11-02    12                                       NaN   \n2  Lagos  Nigeria  2023-11-03    13                                       NaN   \n3  Lagos  Nigeria  2023-11-08    14                                       NaN   \n4  Lagos  Nigeria  2023-11-09    13                                  0.000267   \n\n   sulphurdioxide_so2_column_number_density_amf  ...  cloud_cloud_top_height  \\\n0                                           NaN  ...                     NaN   \n1                                           NaN  ...                     NaN   \n2                                           NaN  ...             6791.682888   \n3                                           NaN  ...                     NaN   \n4                                      0.774656  ...             1451.050659   \n\n   cloud_cloud_base_pressure  cloud_cloud_base_height  \\\n0                        NaN                      NaN   \n1                        NaN                      NaN   \n2               51171.802486              5791.682829   \n3                        NaN                      NaN   \n4               96215.906250               451.050598   \n\n   cloud_cloud_optical_depth  cloud_surface_albedo  \\\n0                        NaN                   NaN   \n1                        NaN                   NaN   \n2                  11.816715              0.192757   \n3                        NaN                   NaN   \n4                  10.521009              0.153114   \n\n   cloud_sensor_azimuth_angle  cloud_sensor_zenith_angle  \\\n0                         NaN                        NaN   \n1                         NaN                        NaN   \n2                  -96.411890                  61.045123   \n3                         NaN                        NaN   \n4                  -97.811241                  49.513439   \n\n   cloud_solar_azimuth_angle  cloud_solar_zenith_angle      pm2_5  \n0                        NaN                       NaN  12.015000  \n1                        NaN                       NaN  42.267200  \n2                -121.307414                 41.898269  39.450741  \n3                        NaN                       NaN  10.537600  \n4                -126.064453                 40.167355  19.431731  \n\n[5 rows x 80 columns]",
      "text/html": "<div>\n<style scoped>\n    .dataframe tbody tr th:only-of-type {\n        vertical-align: middle;\n    }\n\n    .dataframe tbody tr th {\n        vertical-align: top;\n    }\n\n    .dataframe thead th {\n        text-align: right;\n    }\n</style>\n<table border=\"1\" class=\"dataframe\">\n  <thead>\n    <tr style=\"text-align: right;\">\n      <th></th>\n      <th>id</th>\n      <th>site_id</th>\n      <th>site_latitude</th>\n      <th>site_longitude</th>\n      <th>city</th>\n      <th>country</th>\n      <th>date</th>\n      <th>hour</th>\n      <th>sulphurdioxide_so2_column_number_density</th>\n      <th>sulphurdioxide_so2_column_number_density_amf</th>\n      <th>...</th>\n      <th>cloud_cloud_top_height</th>\n      <th>cloud_cloud_base_pressure</th>\n      <th>cloud_cloud_base_height</th>\n      <th>cloud_cloud_optical_depth</th>\n      <th>cloud_surface_albedo</th>\n      <th>cloud_sensor_azimuth_angle</th>\n      <th>cloud_sensor_zenith_angle</th>\n      <th>cloud_solar_azimuth_angle</th>\n      <th>cloud_solar_zenith_angle</th>\n      <th>pm2_5</th>\n    </tr>\n  </thead>\n  <tbody>\n    <tr>\n      <th>0</th>\n      <td>id_vjcx08sz91</td>\n      <td>6531a46a89b3300013914a36</td>\n      <td>6.53257</td>\n      <td>3.39936</td>\n      <td>Lagos</td>\n      <td>Nigeria</td>\n      <td>2023-10-25</td>\n      <td>13</td>\n      <td>NaN</td>\n      <td>NaN</td>\n      <td>...</td>\n      <td>NaN</td>\n      <td>NaN</td>\n      <td>NaN</td>\n      <td>NaN</td>\n      <td>NaN</td>\n      <td>NaN</td>\n      <td>NaN</td>\n      <td>NaN</td>\n      <td>NaN</td>\n      <td>12.015000</td>\n    </tr>\n    <tr>\n      <th>1</th>\n      <td>id_bkg215syli</td>\n      <td>6531a46a89b3300013914a36</td>\n      <td>6.53257</td>\n      <td>3.39936</td>\n      <td>Lagos</td>\n      <td>Nigeria</td>\n      <td>2023-11-02</td>\n      <td>12</td>\n      <td>NaN</td>\n      <td>NaN</td>\n      <td>...</td>\n      <td>NaN</td>\n      <td>NaN</td>\n      <td>NaN</td>\n      <td>NaN</td>\n      <td>NaN</td>\n      <td>NaN</td>\n      <td>NaN</td>\n      <td>NaN</td>\n      <td>NaN</td>\n      <td>42.267200</td>\n    </tr>\n    <tr>\n      <th>2</th>\n      <td>id_oui2pot3qd</td>\n      <td>6531a46a89b3300013914a36</td>\n      <td>6.53257</td>\n      <td>3.39936</td>\n      <td>Lagos</td>\n      <td>Nigeria</td>\n      <td>2023-11-03</td>\n      <td>13</td>\n      <td>NaN</td>\n      <td>NaN</td>\n      <td>...</td>\n      <td>6791.682888</td>\n      <td>51171.802486</td>\n      <td>5791.682829</td>\n      <td>11.816715</td>\n      <td>0.192757</td>\n      <td>-96.411890</td>\n      <td>61.045123</td>\n      <td>-121.307414</td>\n      <td>41.898269</td>\n      <td>39.450741</td>\n    </tr>\n    <tr>\n      <th>3</th>\n      <td>id_9aandqzy4n</td>\n      <td>6531a46a89b3300013914a36</td>\n      <td>6.53257</td>\n      <td>3.39936</td>\n      <td>Lagos</td>\n      <td>Nigeria</td>\n      <td>2023-11-08</td>\n      <td>14</td>\n      <td>NaN</td>\n      <td>NaN</td>\n      <td>...</td>\n      <td>NaN</td>\n      <td>NaN</td>\n      <td>NaN</td>\n      <td>NaN</td>\n      <td>NaN</td>\n      <td>NaN</td>\n      <td>NaN</td>\n      <td>NaN</td>\n      <td>NaN</td>\n      <td>10.537600</td>\n    </tr>\n    <tr>\n      <th>4</th>\n      <td>id_ali5x2m4iw</td>\n      <td>6531a46a89b3300013914a36</td>\n      <td>6.53257</td>\n      <td>3.39936</td>\n      <td>Lagos</td>\n      <td>Nigeria</td>\n      <td>2023-11-09</td>\n      <td>13</td>\n      <td>0.000267</td>\n      <td>0.774656</td>\n      <td>...</td>\n      <td>1451.050659</td>\n      <td>96215.906250</td>\n      <td>451.050598</td>\n      <td>10.521009</td>\n      <td>0.153114</td>\n      <td>-97.811241</td>\n      <td>49.513439</td>\n      <td>-126.064453</td>\n      <td>40.167355</td>\n      <td>19.431731</td>\n    </tr>\n  </tbody>\n</table>\n<p>5 rows × 80 columns</p>\n</div>"
     },
     "execution_count": 143,
     "metadata": {},
     "output_type": "execute_result"
    }
   ],
   "source": [
    "dataframe: pd.DataFrame = pd.read_csv(os.getenv(\"TRAIN_PATH\"))\n",
    "dataframe.head()"
   ],
   "metadata": {
    "collapsed": false,
    "ExecuteTime": {
     "end_time": "2024-04-16T11:53:21.664033Z",
     "start_time": "2024-04-16T11:53:21.546223Z"
    }
   },
   "id": "4afc59033c60501c",
   "execution_count": 143
  },
  {
   "cell_type": "code",
   "outputs": [
    {
     "name": "stdout",
     "output_type": "stream",
     "text": [
      "<class 'pandas.core.frame.DataFrame'>\n",
      "RangeIndex: 8071 entries, 0 to 8070\n",
      "Data columns (total 80 columns):\n",
      " #   Column                                                    Non-Null Count  Dtype  \n",
      "---  ------                                                    --------------  -----  \n",
      " 0   id                                                        8071 non-null   object \n",
      " 1   site_id                                                   8071 non-null   object \n",
      " 2   site_latitude                                             8071 non-null   float64\n",
      " 3   site_longitude                                            8071 non-null   float64\n",
      " 4   city                                                      8071 non-null   object \n",
      " 5   country                                                   8071 non-null   object \n",
      " 6   date                                                      8071 non-null   object \n",
      " 7   hour                                                      8071 non-null   int64  \n",
      " 8   sulphurdioxide_so2_column_number_density                  3159 non-null   float64\n",
      " 9   sulphurdioxide_so2_column_number_density_amf              3159 non-null   float64\n",
      " 10  sulphurdioxide_so2_slant_column_number_density            3159 non-null   float64\n",
      " 11  sulphurdioxide_cloud_fraction                             3159 non-null   float64\n",
      " 12  sulphurdioxide_sensor_azimuth_angle                       3159 non-null   float64\n",
      " 13  sulphurdioxide_sensor_zenith_angle                        3159 non-null   float64\n",
      " 14  sulphurdioxide_solar_azimuth_angle                        3159 non-null   float64\n",
      " 15  sulphurdioxide_solar_zenith_angle                         3159 non-null   float64\n",
      " 16  sulphurdioxide_so2_column_number_density_15km             3159 non-null   float64\n",
      " 17  month                                                     8071 non-null   float64\n",
      " 18  carbonmonoxide_co_column_number_density                   4441 non-null   float64\n",
      " 19  carbonmonoxide_h2o_column_number_density                  4441 non-null   float64\n",
      " 20  carbonmonoxide_cloud_height                               4441 non-null   float64\n",
      " 21  carbonmonoxide_sensor_altitude                            4441 non-null   float64\n",
      " 22  carbonmonoxide_sensor_azimuth_angle                       4441 non-null   float64\n",
      " 23  carbonmonoxide_sensor_zenith_angle                        4441 non-null   float64\n",
      " 24  carbonmonoxide_solar_azimuth_angle                        4441 non-null   float64\n",
      " 25  carbonmonoxide_solar_zenith_angle                         4441 non-null   float64\n",
      " 26  nitrogendioxide_no2_column_number_density                 3104 non-null   float64\n",
      " 27  nitrogendioxide_tropospheric_no2_column_number_density    3104 non-null   float64\n",
      " 28  nitrogendioxide_stratospheric_no2_column_number_density   3104 non-null   float64\n",
      " 29  nitrogendioxide_no2_slant_column_number_density           3104 non-null   float64\n",
      " 30  nitrogendioxide_tropopause_pressure                       3104 non-null   float64\n",
      " 31  nitrogendioxide_absorbing_aerosol_index                   3104 non-null   float64\n",
      " 32  nitrogendioxide_cloud_fraction                            3104 non-null   float64\n",
      " 33  nitrogendioxide_sensor_altitude                           3104 non-null   float64\n",
      " 34  nitrogendioxide_sensor_azimuth_angle                      3104 non-null   float64\n",
      " 35  nitrogendioxide_sensor_zenith_angle                       3104 non-null   float64\n",
      " 36  nitrogendioxide_solar_azimuth_angle                       3104 non-null   float64\n",
      " 37  nitrogendioxide_solar_zenith_angle                        3104 non-null   float64\n",
      " 38  formaldehyde_tropospheric_hcho_column_number_density      4156 non-null   float64\n",
      " 39  formaldehyde_tropospheric_hcho_column_number_density_amf  4156 non-null   float64\n",
      " 40  formaldehyde_hcho_slant_column_number_density             4156 non-null   float64\n",
      " 41  formaldehyde_cloud_fraction                               4156 non-null   float64\n",
      " 42  formaldehyde_solar_zenith_angle                           4156 non-null   float64\n",
      " 43  formaldehyde_solar_azimuth_angle                          4156 non-null   float64\n",
      " 44  formaldehyde_sensor_zenith_angle                          4156 non-null   float64\n",
      " 45  formaldehyde_sensor_azimuth_angle                         4156 non-null   float64\n",
      " 46  uvaerosolindex_absorbing_aerosol_index                    8066 non-null   float64\n",
      " 47  uvaerosolindex_sensor_altitude                            8066 non-null   float64\n",
      " 48  uvaerosolindex_sensor_azimuth_angle                       8066 non-null   float64\n",
      " 49  uvaerosolindex_sensor_zenith_angle                        8066 non-null   float64\n",
      " 50  uvaerosolindex_solar_azimuth_angle                        8066 non-null   float64\n",
      " 51  uvaerosolindex_solar_zenith_angle                         8066 non-null   float64\n",
      " 52  ozone_o3_column_number_density                            7959 non-null   float64\n",
      " 53  ozone_o3_column_number_density_amf                        7959 non-null   float64\n",
      " 54  ozone_o3_slant_column_number_density                      7959 non-null   float64\n",
      " 55  ozone_o3_effective_temperature                            7959 non-null   float64\n",
      " 56  ozone_cloud_fraction                                      7959 non-null   float64\n",
      " 57  ozone_sensor_azimuth_angle                                7959 non-null   float64\n",
      " 58  ozone_sensor_zenith_angle                                 7959 non-null   float64\n",
      " 59  ozone_solar_azimuth_angle                                 7959 non-null   float64\n",
      " 60  ozone_solar_zenith_angle                                  7959 non-null   float64\n",
      " 61  uvaerosollayerheight_aerosol_height                       427 non-null    float64\n",
      " 62  uvaerosollayerheight_aerosol_pressure                     427 non-null    float64\n",
      " 63  uvaerosollayerheight_aerosol_optical_depth                427 non-null    float64\n",
      " 64  uvaerosollayerheight_sensor_zenith_angle                  427 non-null    float64\n",
      " 65  uvaerosollayerheight_sensor_azimuth_angle                 427 non-null    float64\n",
      " 66  uvaerosollayerheight_solar_azimuth_angle                  427 non-null    float64\n",
      " 67  uvaerosollayerheight_solar_zenith_angle                   427 non-null    float64\n",
      " 68  cloud_cloud_fraction                                      4994 non-null   float64\n",
      " 69  cloud_cloud_top_pressure                                  4994 non-null   float64\n",
      " 70  cloud_cloud_top_height                                    4994 non-null   float64\n",
      " 71  cloud_cloud_base_pressure                                 4994 non-null   float64\n",
      " 72  cloud_cloud_base_height                                   4994 non-null   float64\n",
      " 73  cloud_cloud_optical_depth                                 4994 non-null   float64\n",
      " 74  cloud_surface_albedo                                      4994 non-null   float64\n",
      " 75  cloud_sensor_azimuth_angle                                4994 non-null   float64\n",
      " 76  cloud_sensor_zenith_angle                                 4994 non-null   float64\n",
      " 77  cloud_solar_azimuth_angle                                 4994 non-null   float64\n",
      " 78  cloud_solar_zenith_angle                                  4994 non-null   float64\n",
      " 79  pm2_5                                                     8071 non-null   float64\n",
      "dtypes: float64(74), int64(1), object(5)\n",
      "memory usage: 4.9+ MB\n"
     ]
    }
   ],
   "source": [
    "dataframe.info()"
   ],
   "metadata": {
    "collapsed": false,
    "ExecuteTime": {
     "end_time": "2024-04-16T11:53:21.675800Z",
     "start_time": "2024-04-16T11:53:21.665210Z"
    }
   },
   "id": "cd5b72304605bb7a",
   "execution_count": 144
  },
  {
   "cell_type": "code",
   "outputs": [
    {
     "data": {
      "text/plain": "       site_latitude  site_longitude         hour  \\\ncount    8071.000000     8071.000000  8071.000000   \nmean        0.635678       30.246982    10.877463   \nstd         2.154605        9.393151     0.815875   \nmin        -3.459970        3.201510    10.000000   \n25%         0.288630       32.568643    10.000000   \n50%         0.332610       32.600480    11.000000   \n75%         0.374653       32.641110    11.000000   \nmax         6.595400       36.914272    14.000000   \n\n       sulphurdioxide_so2_column_number_density  \\\ncount                               3159.000000   \nmean                                   0.000024   \nstd                                    0.000354   \nmin                                   -0.000980   \n25%                                   -0.000196   \n50%                                    0.000012   \n75%                                    0.000221   \nmax                                    0.002024   \n\n       sulphurdioxide_so2_column_number_density_amf  \\\ncount                                   3159.000000   \nmean                                       0.687295   \nstd                                        0.142544   \nmin                                        0.299364   \n25%                                        0.589849   \n50%                                        0.669632   \n75%                                        0.766817   \nmax                                        1.607052   \n\n       sulphurdioxide_so2_slant_column_number_density  \\\ncount                                     3159.000000   \nmean                                         0.000013   \nstd                                          0.000220   \nmin                                         -0.000696   \n25%                                         -0.000137   \n50%                                          0.000007   \n75%                                          0.000149   \nmax                                          0.001101   \n\n       sulphurdioxide_cloud_fraction  sulphurdioxide_sensor_azimuth_angle  \\\ncount                    3159.000000                          3159.000000   \nmean                        0.126581                             2.120939   \nstd                         0.094129                            85.450554   \nmin                         0.000000                          -107.710861   \n25%                         0.038062                           -98.911720   \n50%                         0.123876                            71.653160   \n75%                         0.209070                            74.110476   \nmax                         0.299850                            77.319656   \n\n       sulphurdioxide_sensor_zenith_angle  sulphurdioxide_solar_azimuth_angle  \\\ncount                         3159.000000                         3159.000000   \nmean                            38.671939                          -92.912582   \nstd                             18.964322                           43.240479   \nmin                              0.177093                         -165.131509   \n25%                             22.811537                         -134.823883   \n50%                             42.564364                          -95.848477   \n75%                             54.238408                          -49.662067   \nmax                             66.234924                          -22.250822   \n\n       ...  cloud_cloud_top_height  cloud_cloud_base_pressure  \\\ncount  ...             4994.000000                4994.000000   \nmean   ...             6089.449805               58478.947647   \nstd    ...             2991.879500               18974.281900   \nmin    ...              521.378113               10752.090499   \n25%    ...             3687.102253               43231.418685   \n50%    ...             5389.787844               60432.792969   \n75%    ...             8047.738159               74276.492371   \nmax    ...            17287.677734              100909.219778   \n\n       cloud_cloud_base_height  cloud_cloud_optical_depth  \\\ncount              4994.000000                4994.000000   \nmean               5105.978072                  16.885186   \nstd                2971.949265                  27.547282   \nmin                   9.741494                   1.458444   \n25%                2701.118575                   5.612198   \n50%                4389.787844                   8.752905   \n75%                7047.738159                  14.794590   \nmax               16287.677734                 250.000002   \n\n       cloud_surface_albedo  cloud_sensor_azimuth_angle  \\\ncount           4994.000000                 4994.000000   \nmean               0.255501                  -18.952179   \nstd                0.046204                   85.873938   \nmin                0.090547                 -102.706078   \n25%                0.228117                  -98.865659   \n50%                0.257323                  -97.477511   \n75%                0.285948                   72.814735   \nmax                0.417945                   77.319656   \n\n       cloud_sensor_zenith_angle  cloud_solar_azimuth_angle  \\\ncount                4994.000000                4994.000000   \nmean                   45.881380                 -84.811978   \nstd                    14.721454                  40.627170   \nmin                     2.996863                -159.058782   \n25%                    37.901279                -125.371559   \n50%                    49.187592                 -74.597511   \n75%                    57.156175                 -49.902340   \nmax                    66.238778                 -22.251009   \n\n       cloud_solar_zenith_angle        pm2_5  \ncount               4994.000000  8071.000000  \nmean                  28.708028    24.639296  \nstd                    7.038309    24.878920  \nmin                   10.314990     1.200000  \n25%                   24.102775    13.270600  \n50%                   29.002745    18.375400  \n75%                   33.929767    28.838400  \nmax                   45.496395   456.193333  \n\n[8 rows x 75 columns]",
      "text/html": "<div>\n<style scoped>\n    .dataframe tbody tr th:only-of-type {\n        vertical-align: middle;\n    }\n\n    .dataframe tbody tr th {\n        vertical-align: top;\n    }\n\n    .dataframe thead th {\n        text-align: right;\n    }\n</style>\n<table border=\"1\" class=\"dataframe\">\n  <thead>\n    <tr style=\"text-align: right;\">\n      <th></th>\n      <th>site_latitude</th>\n      <th>site_longitude</th>\n      <th>hour</th>\n      <th>sulphurdioxide_so2_column_number_density</th>\n      <th>sulphurdioxide_so2_column_number_density_amf</th>\n      <th>sulphurdioxide_so2_slant_column_number_density</th>\n      <th>sulphurdioxide_cloud_fraction</th>\n      <th>sulphurdioxide_sensor_azimuth_angle</th>\n      <th>sulphurdioxide_sensor_zenith_angle</th>\n      <th>sulphurdioxide_solar_azimuth_angle</th>\n      <th>...</th>\n      <th>cloud_cloud_top_height</th>\n      <th>cloud_cloud_base_pressure</th>\n      <th>cloud_cloud_base_height</th>\n      <th>cloud_cloud_optical_depth</th>\n      <th>cloud_surface_albedo</th>\n      <th>cloud_sensor_azimuth_angle</th>\n      <th>cloud_sensor_zenith_angle</th>\n      <th>cloud_solar_azimuth_angle</th>\n      <th>cloud_solar_zenith_angle</th>\n      <th>pm2_5</th>\n    </tr>\n  </thead>\n  <tbody>\n    <tr>\n      <th>count</th>\n      <td>8071.000000</td>\n      <td>8071.000000</td>\n      <td>8071.000000</td>\n      <td>3159.000000</td>\n      <td>3159.000000</td>\n      <td>3159.000000</td>\n      <td>3159.000000</td>\n      <td>3159.000000</td>\n      <td>3159.000000</td>\n      <td>3159.000000</td>\n      <td>...</td>\n      <td>4994.000000</td>\n      <td>4994.000000</td>\n      <td>4994.000000</td>\n      <td>4994.000000</td>\n      <td>4994.000000</td>\n      <td>4994.000000</td>\n      <td>4994.000000</td>\n      <td>4994.000000</td>\n      <td>4994.000000</td>\n      <td>8071.000000</td>\n    </tr>\n    <tr>\n      <th>mean</th>\n      <td>0.635678</td>\n      <td>30.246982</td>\n      <td>10.877463</td>\n      <td>0.000024</td>\n      <td>0.687295</td>\n      <td>0.000013</td>\n      <td>0.126581</td>\n      <td>2.120939</td>\n      <td>38.671939</td>\n      <td>-92.912582</td>\n      <td>...</td>\n      <td>6089.449805</td>\n      <td>58478.947647</td>\n      <td>5105.978072</td>\n      <td>16.885186</td>\n      <td>0.255501</td>\n      <td>-18.952179</td>\n      <td>45.881380</td>\n      <td>-84.811978</td>\n      <td>28.708028</td>\n      <td>24.639296</td>\n    </tr>\n    <tr>\n      <th>std</th>\n      <td>2.154605</td>\n      <td>9.393151</td>\n      <td>0.815875</td>\n      <td>0.000354</td>\n      <td>0.142544</td>\n      <td>0.000220</td>\n      <td>0.094129</td>\n      <td>85.450554</td>\n      <td>18.964322</td>\n      <td>43.240479</td>\n      <td>...</td>\n      <td>2991.879500</td>\n      <td>18974.281900</td>\n      <td>2971.949265</td>\n      <td>27.547282</td>\n      <td>0.046204</td>\n      <td>85.873938</td>\n      <td>14.721454</td>\n      <td>40.627170</td>\n      <td>7.038309</td>\n      <td>24.878920</td>\n    </tr>\n    <tr>\n      <th>min</th>\n      <td>-3.459970</td>\n      <td>3.201510</td>\n      <td>10.000000</td>\n      <td>-0.000980</td>\n      <td>0.299364</td>\n      <td>-0.000696</td>\n      <td>0.000000</td>\n      <td>-107.710861</td>\n      <td>0.177093</td>\n      <td>-165.131509</td>\n      <td>...</td>\n      <td>521.378113</td>\n      <td>10752.090499</td>\n      <td>9.741494</td>\n      <td>1.458444</td>\n      <td>0.090547</td>\n      <td>-102.706078</td>\n      <td>2.996863</td>\n      <td>-159.058782</td>\n      <td>10.314990</td>\n      <td>1.200000</td>\n    </tr>\n    <tr>\n      <th>25%</th>\n      <td>0.288630</td>\n      <td>32.568643</td>\n      <td>10.000000</td>\n      <td>-0.000196</td>\n      <td>0.589849</td>\n      <td>-0.000137</td>\n      <td>0.038062</td>\n      <td>-98.911720</td>\n      <td>22.811537</td>\n      <td>-134.823883</td>\n      <td>...</td>\n      <td>3687.102253</td>\n      <td>43231.418685</td>\n      <td>2701.118575</td>\n      <td>5.612198</td>\n      <td>0.228117</td>\n      <td>-98.865659</td>\n      <td>37.901279</td>\n      <td>-125.371559</td>\n      <td>24.102775</td>\n      <td>13.270600</td>\n    </tr>\n    <tr>\n      <th>50%</th>\n      <td>0.332610</td>\n      <td>32.600480</td>\n      <td>11.000000</td>\n      <td>0.000012</td>\n      <td>0.669632</td>\n      <td>0.000007</td>\n      <td>0.123876</td>\n      <td>71.653160</td>\n      <td>42.564364</td>\n      <td>-95.848477</td>\n      <td>...</td>\n      <td>5389.787844</td>\n      <td>60432.792969</td>\n      <td>4389.787844</td>\n      <td>8.752905</td>\n      <td>0.257323</td>\n      <td>-97.477511</td>\n      <td>49.187592</td>\n      <td>-74.597511</td>\n      <td>29.002745</td>\n      <td>18.375400</td>\n    </tr>\n    <tr>\n      <th>75%</th>\n      <td>0.374653</td>\n      <td>32.641110</td>\n      <td>11.000000</td>\n      <td>0.000221</td>\n      <td>0.766817</td>\n      <td>0.000149</td>\n      <td>0.209070</td>\n      <td>74.110476</td>\n      <td>54.238408</td>\n      <td>-49.662067</td>\n      <td>...</td>\n      <td>8047.738159</td>\n      <td>74276.492371</td>\n      <td>7047.738159</td>\n      <td>14.794590</td>\n      <td>0.285948</td>\n      <td>72.814735</td>\n      <td>57.156175</td>\n      <td>-49.902340</td>\n      <td>33.929767</td>\n      <td>28.838400</td>\n    </tr>\n    <tr>\n      <th>max</th>\n      <td>6.595400</td>\n      <td>36.914272</td>\n      <td>14.000000</td>\n      <td>0.002024</td>\n      <td>1.607052</td>\n      <td>0.001101</td>\n      <td>0.299850</td>\n      <td>77.319656</td>\n      <td>66.234924</td>\n      <td>-22.250822</td>\n      <td>...</td>\n      <td>17287.677734</td>\n      <td>100909.219778</td>\n      <td>16287.677734</td>\n      <td>250.000002</td>\n      <td>0.417945</td>\n      <td>77.319656</td>\n      <td>66.238778</td>\n      <td>-22.251009</td>\n      <td>45.496395</td>\n      <td>456.193333</td>\n    </tr>\n  </tbody>\n</table>\n<p>8 rows × 75 columns</p>\n</div>"
     },
     "execution_count": 145,
     "metadata": {},
     "output_type": "execute_result"
    }
   ],
   "source": [
    "dataframe.describe()"
   ],
   "metadata": {
    "collapsed": false,
    "ExecuteTime": {
     "end_time": "2024-04-16T11:53:21.833834Z",
     "start_time": "2024-04-16T11:53:21.711138Z"
    }
   },
   "id": "67493c0e9b49c950",
   "execution_count": 145
  },
  {
   "cell_type": "markdown",
   "source": [
    "### Analyze Data regarding cities and times"
   ],
   "metadata": {
    "collapsed": false
   },
   "id": "c39fe0e33c50fd32"
  },
  {
   "cell_type": "code",
   "outputs": [],
   "source": [
    "dataframe[\"date\"] = pd.to_datetime(dataframe[\"date\"])\n",
    "dataframe[\"datetime\"] = dataframe[\"date\"] + pd.to_timedelta(dataframe[\"hour\"], unit='h')\n",
    "dataframe[\"month\"] = dataframe[\"datetime\"].dt.month\n"
   ],
   "metadata": {
    "collapsed": false,
    "ExecuteTime": {
     "end_time": "2024-04-16T11:53:21.839894Z",
     "start_time": "2024-04-16T11:53:21.834866Z"
    }
   },
   "id": "a4374cd9e5dcedd1",
   "execution_count": 146
  },
  {
   "cell_type": "code",
   "outputs": [
    {
     "data": {
      "text/plain": "                       site_id  site_latitude  site_longitude  country  \\\n0     6531a46a89b3300013914a36       6.532570        3.399360  Nigeria   \n1     6531a46a89b3300013914a36       6.532570        3.399360  Nigeria   \n2     6531a46a89b3300013914a36       6.532570        3.399360  Nigeria   \n3     6531a46a89b3300013914a36       6.532570        3.399360  Nigeria   \n4     6531a46a89b3300013914a36       6.532570        3.399360  Nigeria   \n...                        ...            ...             ...      ...   \n8066  647f3a5d69df500029a2fc93      -1.268877       36.819139    Kenya   \n8067  647f3a5d69df500029a2fc93      -1.268877       36.819139    Kenya   \n8068  647f3a5d69df500029a2fc93      -1.268877       36.819139    Kenya   \n8069  647f3a5d69df500029a2fc93      -1.268877       36.819139    Kenya   \n8070  647f3a5d69df500029a2fc93      -1.268877       36.819139    Kenya   \n\n         city            datetime      pm2_5  \n0       Lagos 2023-10-25 13:00:00  12.015000  \n1       Lagos 2023-11-02 12:00:00  42.267200  \n2       Lagos 2023-11-03 13:00:00  39.450741  \n3       Lagos 2023-11-08 14:00:00  10.537600  \n4       Lagos 2023-11-09 13:00:00  19.431731  \n...       ...                 ...        ...  \n8066  Nairobi 2024-01-17 10:00:00  21.086071  \n8067  Nairobi 2024-01-24 11:00:00  17.110000  \n8068  Nairobi 2024-01-25 11:00:00  15.080000  \n8069  Nairobi 2024-01-26 10:00:00  18.026750  \n8070  Nairobi 2024-01-27 10:00:00  13.103000  \n\n[8071 rows x 7 columns]",
      "text/html": "<div>\n<style scoped>\n    .dataframe tbody tr th:only-of-type {\n        vertical-align: middle;\n    }\n\n    .dataframe tbody tr th {\n        vertical-align: top;\n    }\n\n    .dataframe thead th {\n        text-align: right;\n    }\n</style>\n<table border=\"1\" class=\"dataframe\">\n  <thead>\n    <tr style=\"text-align: right;\">\n      <th></th>\n      <th>site_id</th>\n      <th>site_latitude</th>\n      <th>site_longitude</th>\n      <th>country</th>\n      <th>city</th>\n      <th>datetime</th>\n      <th>pm2_5</th>\n    </tr>\n  </thead>\n  <tbody>\n    <tr>\n      <th>0</th>\n      <td>6531a46a89b3300013914a36</td>\n      <td>6.532570</td>\n      <td>3.399360</td>\n      <td>Nigeria</td>\n      <td>Lagos</td>\n      <td>2023-10-25 13:00:00</td>\n      <td>12.015000</td>\n    </tr>\n    <tr>\n      <th>1</th>\n      <td>6531a46a89b3300013914a36</td>\n      <td>6.532570</td>\n      <td>3.399360</td>\n      <td>Nigeria</td>\n      <td>Lagos</td>\n      <td>2023-11-02 12:00:00</td>\n      <td>42.267200</td>\n    </tr>\n    <tr>\n      <th>2</th>\n      <td>6531a46a89b3300013914a36</td>\n      <td>6.532570</td>\n      <td>3.399360</td>\n      <td>Nigeria</td>\n      <td>Lagos</td>\n      <td>2023-11-03 13:00:00</td>\n      <td>39.450741</td>\n    </tr>\n    <tr>\n      <th>3</th>\n      <td>6531a46a89b3300013914a36</td>\n      <td>6.532570</td>\n      <td>3.399360</td>\n      <td>Nigeria</td>\n      <td>Lagos</td>\n      <td>2023-11-08 14:00:00</td>\n      <td>10.537600</td>\n    </tr>\n    <tr>\n      <th>4</th>\n      <td>6531a46a89b3300013914a36</td>\n      <td>6.532570</td>\n      <td>3.399360</td>\n      <td>Nigeria</td>\n      <td>Lagos</td>\n      <td>2023-11-09 13:00:00</td>\n      <td>19.431731</td>\n    </tr>\n    <tr>\n      <th>...</th>\n      <td>...</td>\n      <td>...</td>\n      <td>...</td>\n      <td>...</td>\n      <td>...</td>\n      <td>...</td>\n      <td>...</td>\n    </tr>\n    <tr>\n      <th>8066</th>\n      <td>647f3a5d69df500029a2fc93</td>\n      <td>-1.268877</td>\n      <td>36.819139</td>\n      <td>Kenya</td>\n      <td>Nairobi</td>\n      <td>2024-01-17 10:00:00</td>\n      <td>21.086071</td>\n    </tr>\n    <tr>\n      <th>8067</th>\n      <td>647f3a5d69df500029a2fc93</td>\n      <td>-1.268877</td>\n      <td>36.819139</td>\n      <td>Kenya</td>\n      <td>Nairobi</td>\n      <td>2024-01-24 11:00:00</td>\n      <td>17.110000</td>\n    </tr>\n    <tr>\n      <th>8068</th>\n      <td>647f3a5d69df500029a2fc93</td>\n      <td>-1.268877</td>\n      <td>36.819139</td>\n      <td>Kenya</td>\n      <td>Nairobi</td>\n      <td>2024-01-25 11:00:00</td>\n      <td>15.080000</td>\n    </tr>\n    <tr>\n      <th>8069</th>\n      <td>647f3a5d69df500029a2fc93</td>\n      <td>-1.268877</td>\n      <td>36.819139</td>\n      <td>Kenya</td>\n      <td>Nairobi</td>\n      <td>2024-01-26 10:00:00</td>\n      <td>18.026750</td>\n    </tr>\n    <tr>\n      <th>8070</th>\n      <td>647f3a5d69df500029a2fc93</td>\n      <td>-1.268877</td>\n      <td>36.819139</td>\n      <td>Kenya</td>\n      <td>Nairobi</td>\n      <td>2024-01-27 10:00:00</td>\n      <td>13.103000</td>\n    </tr>\n  </tbody>\n</table>\n<p>8071 rows × 7 columns</p>\n</div>"
     },
     "execution_count": 147,
     "metadata": {},
     "output_type": "execute_result"
    }
   ],
   "source": [
    "COLUMNS: list[str] = [\"site_id\", \"site_latitude\", \"site_longitude\", \"country\", \"city\", \"datetime\", \"pm2_5\"]\n",
    "dataframe[COLUMNS]"
   ],
   "metadata": {
    "collapsed": false,
    "ExecuteTime": {
     "end_time": "2024-04-16T11:53:21.855811Z",
     "start_time": "2024-04-16T11:53:21.840651Z"
    }
   },
   "id": "e95a8f72bff69379",
   "execution_count": 147
  },
  {
   "cell_type": "code",
   "outputs": [
    {
     "data": {
      "text/plain": "site_id                   site_latitude  site_longitude  country  city \n64aafb1843e5f70029a059c4  6.514409       3.371036        Nigeria  Lagos    78\n64d0f71818831d0013c326c2  6.517270       3.398370        Nigeria  Lagos    76\n64d3abace241c10012e56b24  6.527240       3.355750        Nigeria  Lagos    75\n64d3aa7c0bde610013f03093  6.544740       3.346240        Nigeria  Lagos    73\n64db3e98149b3c001a52c89e  6.475000       3.201510        Nigeria  Lagos    72\n64dc967e9043f40013344b96  6.594410       3.383280        Nigeria  Lagos    70\n64d4836b77e011001332ed3f  6.517670       3.385420        Nigeria  Lagos    67\n64d3ab2af5fc5e00133e7984  6.442050       3.378490        Nigeria  Lagos    57\n6531094353d72d00146591dd  6.552160       3.388070        Nigeria  Lagos    41\n652e8f12319d650019be0444  6.590300       3.342210        Nigeria  Lagos    41\n6531a46a89b3300013914a36  6.532570       3.399360        Nigeria  Lagos    34\n652c59739beea7001a7548b4  6.495500       3.392240        Nigeria  Lagos    33\n640f0b9e1663d3001e40bd00  6.440483       3.406815        Nigeria  Lagos    28\n64d7bb69ed04f200139b5fbd  6.489940       3.386190        Nigeria  Lagos    22\n655f78d8f6246d0013d51e5d  6.463960       3.452120        Nigeria  Lagos    19\n6572c7f70c67750014f20c90  6.595400       3.291850        Nigeria  Lagos    16\n6572c93f24e8bf0013024fa2  6.561480       3.251060        Nigeria  Lagos    16\n6572c9c124e8bf0013024fb0  6.561340       3.250740        Nigeria  Lagos    16\n65836b30aae708001379b5f4  6.482850       3.357890        Nigeria  Lagos     9\n65836b9f363e1b00135acaf1  6.569090       3.367310        Nigeria  Lagos     9\nName: count, dtype: int64"
     },
     "execution_count": 148,
     "metadata": {},
     "output_type": "execute_result"
    }
   ],
   "source": [
    "dataframe[COLUMNS].query(\"country == 'Nigeria' & city == 'Lagos'\").value_counts([\"site_id\", \"site_latitude\", \"site_longitude\", \"country\", \"city\"])"
   ],
   "metadata": {
    "collapsed": false,
    "ExecuteTime": {
     "end_time": "2024-04-16T11:53:21.869924Z",
     "start_time": "2024-04-16T11:53:21.856733Z"
    }
   },
   "id": "ade0859c8aa74198",
   "execution_count": 148
  },
  {
   "cell_type": "code",
   "outputs": [
    {
     "data": {
      "text/plain": "                       site_id  site_latitude  site_longitude  country   city  \\\n5590  64aafb1843e5f70029a059c4       6.514409        3.371036  Nigeria  Lagos   \n5589  64aafb1843e5f70029a059c4       6.514409        3.371036  Nigeria  Lagos   \n5588  64aafb1843e5f70029a059c4       6.514409        3.371036  Nigeria  Lagos   \n5587  64aafb1843e5f70029a059c4       6.514409        3.371036  Nigeria  Lagos   \n5586  64aafb1843e5f70029a059c4       6.514409        3.371036  Nigeria  Lagos   \n...                        ...            ...             ...      ...    ...   \n5517  64aafb1843e5f70029a059c4       6.514409        3.371036  Nigeria  Lagos   \n5516  64aafb1843e5f70029a059c4       6.514409        3.371036  Nigeria  Lagos   \n5515  64aafb1843e5f70029a059c4       6.514409        3.371036  Nigeria  Lagos   \n5514  64aafb1843e5f70029a059c4       6.514409        3.371036  Nigeria  Lagos   \n5513  64aafb1843e5f70029a059c4       6.514409        3.371036  Nigeria  Lagos   \n\n                datetime      pm2_5  \n5590 2024-01-27 13:00:00  55.229444  \n5589 2024-01-26 12:00:00  66.253235  \n5588 2024-01-25 12:00:00  61.723864  \n5587 2024-01-24 13:00:00  45.040455  \n5586 2024-01-16 12:00:00  53.251136  \n...                  ...        ...  \n5517 2023-08-10 13:00:00  20.524419  \n5516 2023-08-05 13:00:00  10.180341  \n5515 2023-08-04 13:00:00  12.717000  \n5514 2023-08-03 12:00:00  11.039318  \n5513 2023-08-02 12:00:00  12.356136  \n\n[78 rows x 7 columns]",
      "text/html": "<div>\n<style scoped>\n    .dataframe tbody tr th:only-of-type {\n        vertical-align: middle;\n    }\n\n    .dataframe tbody tr th {\n        vertical-align: top;\n    }\n\n    .dataframe thead th {\n        text-align: right;\n    }\n</style>\n<table border=\"1\" class=\"dataframe\">\n  <thead>\n    <tr style=\"text-align: right;\">\n      <th></th>\n      <th>site_id</th>\n      <th>site_latitude</th>\n      <th>site_longitude</th>\n      <th>country</th>\n      <th>city</th>\n      <th>datetime</th>\n      <th>pm2_5</th>\n    </tr>\n  </thead>\n  <tbody>\n    <tr>\n      <th>5590</th>\n      <td>64aafb1843e5f70029a059c4</td>\n      <td>6.514409</td>\n      <td>3.371036</td>\n      <td>Nigeria</td>\n      <td>Lagos</td>\n      <td>2024-01-27 13:00:00</td>\n      <td>55.229444</td>\n    </tr>\n    <tr>\n      <th>5589</th>\n      <td>64aafb1843e5f70029a059c4</td>\n      <td>6.514409</td>\n      <td>3.371036</td>\n      <td>Nigeria</td>\n      <td>Lagos</td>\n      <td>2024-01-26 12:00:00</td>\n      <td>66.253235</td>\n    </tr>\n    <tr>\n      <th>5588</th>\n      <td>64aafb1843e5f70029a059c4</td>\n      <td>6.514409</td>\n      <td>3.371036</td>\n      <td>Nigeria</td>\n      <td>Lagos</td>\n      <td>2024-01-25 12:00:00</td>\n      <td>61.723864</td>\n    </tr>\n    <tr>\n      <th>5587</th>\n      <td>64aafb1843e5f70029a059c4</td>\n      <td>6.514409</td>\n      <td>3.371036</td>\n      <td>Nigeria</td>\n      <td>Lagos</td>\n      <td>2024-01-24 13:00:00</td>\n      <td>45.040455</td>\n    </tr>\n    <tr>\n      <th>5586</th>\n      <td>64aafb1843e5f70029a059c4</td>\n      <td>6.514409</td>\n      <td>3.371036</td>\n      <td>Nigeria</td>\n      <td>Lagos</td>\n      <td>2024-01-16 12:00:00</td>\n      <td>53.251136</td>\n    </tr>\n    <tr>\n      <th>...</th>\n      <td>...</td>\n      <td>...</td>\n      <td>...</td>\n      <td>...</td>\n      <td>...</td>\n      <td>...</td>\n      <td>...</td>\n    </tr>\n    <tr>\n      <th>5517</th>\n      <td>64aafb1843e5f70029a059c4</td>\n      <td>6.514409</td>\n      <td>3.371036</td>\n      <td>Nigeria</td>\n      <td>Lagos</td>\n      <td>2023-08-10 13:00:00</td>\n      <td>20.524419</td>\n    </tr>\n    <tr>\n      <th>5516</th>\n      <td>64aafb1843e5f70029a059c4</td>\n      <td>6.514409</td>\n      <td>3.371036</td>\n      <td>Nigeria</td>\n      <td>Lagos</td>\n      <td>2023-08-05 13:00:00</td>\n      <td>10.180341</td>\n    </tr>\n    <tr>\n      <th>5515</th>\n      <td>64aafb1843e5f70029a059c4</td>\n      <td>6.514409</td>\n      <td>3.371036</td>\n      <td>Nigeria</td>\n      <td>Lagos</td>\n      <td>2023-08-04 13:00:00</td>\n      <td>12.717000</td>\n    </tr>\n    <tr>\n      <th>5514</th>\n      <td>64aafb1843e5f70029a059c4</td>\n      <td>6.514409</td>\n      <td>3.371036</td>\n      <td>Nigeria</td>\n      <td>Lagos</td>\n      <td>2023-08-03 12:00:00</td>\n      <td>11.039318</td>\n    </tr>\n    <tr>\n      <th>5513</th>\n      <td>64aafb1843e5f70029a059c4</td>\n      <td>6.514409</td>\n      <td>3.371036</td>\n      <td>Nigeria</td>\n      <td>Lagos</td>\n      <td>2023-08-02 12:00:00</td>\n      <td>12.356136</td>\n    </tr>\n  </tbody>\n</table>\n<p>78 rows × 7 columns</p>\n</div>"
     },
     "execution_count": 149,
     "metadata": {},
     "output_type": "execute_result"
    }
   ],
   "source": [
    "dataframe[COLUMNS].query(\"site_id == '64aafb1843e5f70029a059c4'\").sort_values(\"datetime\", ascending=False)"
   ],
   "metadata": {
    "collapsed": false,
    "ExecuteTime": {
     "end_time": "2024-04-16T11:53:21.878482Z",
     "start_time": "2024-04-16T11:53:21.870569Z"
    }
   },
   "id": "b506c0c41d3f4057",
   "execution_count": 149
  },
  {
   "cell_type": "markdown",
   "source": [
    "## Analyze missing data"
   ],
   "metadata": {
    "collapsed": false
   },
   "id": "6e9fba21d6e11bbe"
  },
  {
   "cell_type": "code",
   "outputs": [],
   "source": [
    "missing_data: pd.DataFrame = dataframe[dataframe.isnull().any(axis=1)].sort_values([\"site_id\", \"datetime\"], ascending=False)"
   ],
   "metadata": {
    "collapsed": false,
    "ExecuteTime": {
     "end_time": "2024-04-16T11:53:21.954242Z",
     "start_time": "2024-04-16T11:53:21.943246Z"
    }
   },
   "id": "601ce1b42a6c61fa",
   "execution_count": 150
  },
  {
   "cell_type": "code",
   "outputs": [],
   "source": [
    "def missing_all_data_from_group(row: pd.Series, group: str) -> bool:\n",
    "    missing: bool = True\n",
    "        \n",
    "    for col_name, value in row.items():\n",
    "        if group not in col_name or not isinstance(value, float):\n",
    "            continue\n",
    "            \n",
    "        missing = missing and np.isnan(value)\n",
    "        \n",
    "        if not missing:\n",
    "            return missing\n",
    "    \n",
    "    return missing\n",
    "\n",
    "\n",
    "\n",
    "def missing_any_data_from_group(row: pd.Series, group: str) -> bool:\n",
    "    missing: bool = False\n",
    "\n",
    "    for col_name, value in row.items():\n",
    "        if group not in col_name or not isinstance(value, float):\n",
    "            continue\n",
    "        missing = missing or np.isnan(value)\n",
    "        \n",
    "        if missing:\n",
    "            return missing\n",
    "        \n",
    "    return missing\n",
    "\n",
    "\n",
    "dataframe[\"missing_carbonmonoxide\"] = dataframe.apply(lambda x: missing_all_data_from_group(x, \"carbonmonoxide\"), axis=1)\n",
    "dataframe[\"missing_formaldehyde\"] = dataframe.apply(lambda x: missing_all_data_from_group(x, \"formaldehyde\"), axis=1)\n",
    "dataframe[\"missing_nitrogendioxide\"] = dataframe.apply(lambda x: missing_all_data_from_group(x, \"nitrogendioxide\"), axis=1)\n",
    "dataframe[\"missing_sulphurdioxide\"] = dataframe.apply(lambda x: missing_all_data_from_group(x, \"sulphurdioxide\"), axis=1)\n",
    "dataframe[\"missing_uvaerosolindex\"] = dataframe.apply(lambda x: missing_all_data_from_group(x, \"uvaerosolindex\"), axis=1)\n",
    "dataframe[\"missing_uvaerosollayerheight\"] = dataframe.apply(lambda x: missing_all_data_from_group(x, \"uvaerosollayerheight\"), axis=1)"
   ],
   "metadata": {
    "collapsed": false,
    "ExecuteTime": {
     "end_time": "2024-04-16T11:53:23.054350Z",
     "start_time": "2024-04-16T11:53:21.979749Z"
    }
   },
   "id": "5e94355ec4146f48",
   "execution_count": 151
  },
  {
   "cell_type": "code",
   "outputs": [
    {
     "data": {
      "text/plain": "missing_carbonmonoxide          0.449758\nmissing_formaldehyde            0.485070\nmissing_nitrogendioxide         0.615413\nmissing_sulphurdioxide          0.608599\nmissing_uvaerosolindex          0.000620\nmissing_uvaerosollayerheight    0.947095\ndtype: float64"
     },
     "execution_count": 152,
     "metadata": {},
     "output_type": "execute_result"
    }
   ],
   "source": [
    "dataframe[[col for col in dataframe.columns if \"missing\" in col]].sum() / dataframe.shape[0]"
   ],
   "metadata": {
    "collapsed": false,
    "ExecuteTime": {
     "end_time": "2024-04-16T11:53:23.060532Z",
     "start_time": "2024-04-16T11:53:23.055595Z"
    }
   },
   "id": "f1364d8c4007d807",
   "execution_count": 152
  },
  {
   "cell_type": "code",
   "outputs": [
    {
     "data": {
      "text/plain": "                 id                   site_id  site_latitude  site_longitude  \\\n0     id_vjcx08sz91  6531a46a89b3300013914a36       6.532570        3.399360   \n1     id_bkg215syli  6531a46a89b3300013914a36       6.532570        3.399360   \n2     id_oui2pot3qd  6531a46a89b3300013914a36       6.532570        3.399360   \n3     id_9aandqzy4n  6531a46a89b3300013914a36       6.532570        3.399360   \n4     id_ali5x2m4iw  6531a46a89b3300013914a36       6.532570        3.399360   \n...             ...                       ...            ...             ...   \n8066  id_ov6ddbfdf0  647f3a5d69df500029a2fc93      -1.268877       36.819139   \n8067  id_3tv6i1a09t  647f3a5d69df500029a2fc93      -1.268877       36.819139   \n8068  id_csqjqt3f9i  647f3a5d69df500029a2fc93      -1.268877       36.819139   \n8069  id_tv6dzkz7ii  647f3a5d69df500029a2fc93      -1.268877       36.819139   \n8070  id_qgxtderh4p  647f3a5d69df500029a2fc93      -1.268877       36.819139   \n\n         city  country       date  hour  \\\n0       Lagos  Nigeria 2023-10-25    13   \n1       Lagos  Nigeria 2023-11-02    12   \n2       Lagos  Nigeria 2023-11-03    13   \n3       Lagos  Nigeria 2023-11-08    14   \n4       Lagos  Nigeria 2023-11-09    13   \n...       ...      ...        ...   ...   \n8066  Nairobi    Kenya 2024-01-17    10   \n8067  Nairobi    Kenya 2024-01-24    11   \n8068  Nairobi    Kenya 2024-01-25    11   \n8069  Nairobi    Kenya 2024-01-26    10   \n8070  Nairobi    Kenya 2024-01-27    10   \n\n      sulphurdioxide_so2_column_number_density  \\\n0                                          NaN   \n1                                          NaN   \n2                                          NaN   \n3                                          NaN   \n4                                     0.000267   \n...                                        ...   \n8066                                       NaN   \n8067                                 -0.000563   \n8068                                       NaN   \n8069                                 -0.000188   \n8070                                  0.000089   \n\n      sulphurdioxide_so2_column_number_density_amf  ...  \\\n0                                              NaN  ...   \n1                                              NaN  ...   \n2                                              NaN  ...   \n3                                              NaN  ...   \n4                                         0.774656  ...   \n...                                            ...  ...   \n8066                                           NaN  ...   \n8067                                      0.595788  ...   \n8068                                           NaN  ...   \n8069                                      0.746123  ...   \n8070                                      0.752415  ...   \n\n      cloud_sensor_zenith_angle  cloud_solar_azimuth_angle  \\\n0                           NaN                        NaN   \n1                           NaN                        NaN   \n2                     61.045123                -121.307414   \n3                           NaN                        NaN   \n4                     49.513439                -126.064453   \n...                         ...                        ...   \n8066                        NaN                        NaN   \n8067                        NaN                        NaN   \n8068                        NaN                        NaN   \n8069                        NaN                        NaN   \n8070                  48.218334                -144.969040   \n\n      cloud_solar_zenith_angle      pm2_5            datetime  \\\n0                          NaN  12.015000 2023-10-25 13:00:00   \n1                          NaN  42.267200 2023-11-02 12:00:00   \n2                    41.898269  39.450741 2023-11-03 13:00:00   \n3                          NaN  10.537600 2023-11-08 14:00:00   \n4                    40.167355  19.431731 2023-11-09 13:00:00   \n...                        ...        ...                 ...   \n8066                       NaN  21.086071 2024-01-17 10:00:00   \n8067                       NaN  17.110000 2024-01-24 11:00:00   \n8068                       NaN  15.080000 2024-01-25 11:00:00   \n8069                       NaN  18.026750 2024-01-26 10:00:00   \n8070                 21.264854  13.103000 2024-01-27 10:00:00   \n\n      missing_carbonmonoxide  missing_formaldehyde  missing_nitrogendioxide  \\\n0                       True                  True                     True   \n1                      False                 False                     True   \n2                       True                  True                     True   \n3                       True                  True                     True   \n4                      False                 False                    False   \n...                      ...                   ...                      ...   \n8066                    True                  True                     True   \n8067                   False                 False                    False   \n8068                   False                 False                     True   \n8069                   False                 False                    False   \n8070                   False                 False                    False   \n\n      missing_sulphurdioxide  missing_uvaerosolindex  \n0                       True                   False  \n1                       True                   False  \n2                       True                   False  \n3                       True                   False  \n4                      False                   False  \n...                      ...                     ...  \n8066                    True                   False  \n8067                   False                   False  \n8068                    True                   False  \n8069                   False                   False  \n8070                   False                   False  \n\n[8071 rows x 79 columns]",
      "text/html": "<div>\n<style scoped>\n    .dataframe tbody tr th:only-of-type {\n        vertical-align: middle;\n    }\n\n    .dataframe tbody tr th {\n        vertical-align: top;\n    }\n\n    .dataframe thead th {\n        text-align: right;\n    }\n</style>\n<table border=\"1\" class=\"dataframe\">\n  <thead>\n    <tr style=\"text-align: right;\">\n      <th></th>\n      <th>id</th>\n      <th>site_id</th>\n      <th>site_latitude</th>\n      <th>site_longitude</th>\n      <th>city</th>\n      <th>country</th>\n      <th>date</th>\n      <th>hour</th>\n      <th>sulphurdioxide_so2_column_number_density</th>\n      <th>sulphurdioxide_so2_column_number_density_amf</th>\n      <th>...</th>\n      <th>cloud_sensor_zenith_angle</th>\n      <th>cloud_solar_azimuth_angle</th>\n      <th>cloud_solar_zenith_angle</th>\n      <th>pm2_5</th>\n      <th>datetime</th>\n      <th>missing_carbonmonoxide</th>\n      <th>missing_formaldehyde</th>\n      <th>missing_nitrogendioxide</th>\n      <th>missing_sulphurdioxide</th>\n      <th>missing_uvaerosolindex</th>\n    </tr>\n  </thead>\n  <tbody>\n    <tr>\n      <th>0</th>\n      <td>id_vjcx08sz91</td>\n      <td>6531a46a89b3300013914a36</td>\n      <td>6.532570</td>\n      <td>3.399360</td>\n      <td>Lagos</td>\n      <td>Nigeria</td>\n      <td>2023-10-25</td>\n      <td>13</td>\n      <td>NaN</td>\n      <td>NaN</td>\n      <td>...</td>\n      <td>NaN</td>\n      <td>NaN</td>\n      <td>NaN</td>\n      <td>12.015000</td>\n      <td>2023-10-25 13:00:00</td>\n      <td>True</td>\n      <td>True</td>\n      <td>True</td>\n      <td>True</td>\n      <td>False</td>\n    </tr>\n    <tr>\n      <th>1</th>\n      <td>id_bkg215syli</td>\n      <td>6531a46a89b3300013914a36</td>\n      <td>6.532570</td>\n      <td>3.399360</td>\n      <td>Lagos</td>\n      <td>Nigeria</td>\n      <td>2023-11-02</td>\n      <td>12</td>\n      <td>NaN</td>\n      <td>NaN</td>\n      <td>...</td>\n      <td>NaN</td>\n      <td>NaN</td>\n      <td>NaN</td>\n      <td>42.267200</td>\n      <td>2023-11-02 12:00:00</td>\n      <td>False</td>\n      <td>False</td>\n      <td>True</td>\n      <td>True</td>\n      <td>False</td>\n    </tr>\n    <tr>\n      <th>2</th>\n      <td>id_oui2pot3qd</td>\n      <td>6531a46a89b3300013914a36</td>\n      <td>6.532570</td>\n      <td>3.399360</td>\n      <td>Lagos</td>\n      <td>Nigeria</td>\n      <td>2023-11-03</td>\n      <td>13</td>\n      <td>NaN</td>\n      <td>NaN</td>\n      <td>...</td>\n      <td>61.045123</td>\n      <td>-121.307414</td>\n      <td>41.898269</td>\n      <td>39.450741</td>\n      <td>2023-11-03 13:00:00</td>\n      <td>True</td>\n      <td>True</td>\n      <td>True</td>\n      <td>True</td>\n      <td>False</td>\n    </tr>\n    <tr>\n      <th>3</th>\n      <td>id_9aandqzy4n</td>\n      <td>6531a46a89b3300013914a36</td>\n      <td>6.532570</td>\n      <td>3.399360</td>\n      <td>Lagos</td>\n      <td>Nigeria</td>\n      <td>2023-11-08</td>\n      <td>14</td>\n      <td>NaN</td>\n      <td>NaN</td>\n      <td>...</td>\n      <td>NaN</td>\n      <td>NaN</td>\n      <td>NaN</td>\n      <td>10.537600</td>\n      <td>2023-11-08 14:00:00</td>\n      <td>True</td>\n      <td>True</td>\n      <td>True</td>\n      <td>True</td>\n      <td>False</td>\n    </tr>\n    <tr>\n      <th>4</th>\n      <td>id_ali5x2m4iw</td>\n      <td>6531a46a89b3300013914a36</td>\n      <td>6.532570</td>\n      <td>3.399360</td>\n      <td>Lagos</td>\n      <td>Nigeria</td>\n      <td>2023-11-09</td>\n      <td>13</td>\n      <td>0.000267</td>\n      <td>0.774656</td>\n      <td>...</td>\n      <td>49.513439</td>\n      <td>-126.064453</td>\n      <td>40.167355</td>\n      <td>19.431731</td>\n      <td>2023-11-09 13:00:00</td>\n      <td>False</td>\n      <td>False</td>\n      <td>False</td>\n      <td>False</td>\n      <td>False</td>\n    </tr>\n    <tr>\n      <th>...</th>\n      <td>...</td>\n      <td>...</td>\n      <td>...</td>\n      <td>...</td>\n      <td>...</td>\n      <td>...</td>\n      <td>...</td>\n      <td>...</td>\n      <td>...</td>\n      <td>...</td>\n      <td>...</td>\n      <td>...</td>\n      <td>...</td>\n      <td>...</td>\n      <td>...</td>\n      <td>...</td>\n      <td>...</td>\n      <td>...</td>\n      <td>...</td>\n      <td>...</td>\n      <td>...</td>\n    </tr>\n    <tr>\n      <th>8066</th>\n      <td>id_ov6ddbfdf0</td>\n      <td>647f3a5d69df500029a2fc93</td>\n      <td>-1.268877</td>\n      <td>36.819139</td>\n      <td>Nairobi</td>\n      <td>Kenya</td>\n      <td>2024-01-17</td>\n      <td>10</td>\n      <td>NaN</td>\n      <td>NaN</td>\n      <td>...</td>\n      <td>NaN</td>\n      <td>NaN</td>\n      <td>NaN</td>\n      <td>21.086071</td>\n      <td>2024-01-17 10:00:00</td>\n      <td>True</td>\n      <td>True</td>\n      <td>True</td>\n      <td>True</td>\n      <td>False</td>\n    </tr>\n    <tr>\n      <th>8067</th>\n      <td>id_3tv6i1a09t</td>\n      <td>647f3a5d69df500029a2fc93</td>\n      <td>-1.268877</td>\n      <td>36.819139</td>\n      <td>Nairobi</td>\n      <td>Kenya</td>\n      <td>2024-01-24</td>\n      <td>11</td>\n      <td>-0.000563</td>\n      <td>0.595788</td>\n      <td>...</td>\n      <td>NaN</td>\n      <td>NaN</td>\n      <td>NaN</td>\n      <td>17.110000</td>\n      <td>2024-01-24 11:00:00</td>\n      <td>False</td>\n      <td>False</td>\n      <td>False</td>\n      <td>False</td>\n      <td>False</td>\n    </tr>\n    <tr>\n      <th>8068</th>\n      <td>id_csqjqt3f9i</td>\n      <td>647f3a5d69df500029a2fc93</td>\n      <td>-1.268877</td>\n      <td>36.819139</td>\n      <td>Nairobi</td>\n      <td>Kenya</td>\n      <td>2024-01-25</td>\n      <td>11</td>\n      <td>NaN</td>\n      <td>NaN</td>\n      <td>...</td>\n      <td>NaN</td>\n      <td>NaN</td>\n      <td>NaN</td>\n      <td>15.080000</td>\n      <td>2024-01-25 11:00:00</td>\n      <td>False</td>\n      <td>False</td>\n      <td>True</td>\n      <td>True</td>\n      <td>False</td>\n    </tr>\n    <tr>\n      <th>8069</th>\n      <td>id_tv6dzkz7ii</td>\n      <td>647f3a5d69df500029a2fc93</td>\n      <td>-1.268877</td>\n      <td>36.819139</td>\n      <td>Nairobi</td>\n      <td>Kenya</td>\n      <td>2024-01-26</td>\n      <td>10</td>\n      <td>-0.000188</td>\n      <td>0.746123</td>\n      <td>...</td>\n      <td>NaN</td>\n      <td>NaN</td>\n      <td>NaN</td>\n      <td>18.026750</td>\n      <td>2024-01-26 10:00:00</td>\n      <td>False</td>\n      <td>False</td>\n      <td>False</td>\n      <td>False</td>\n      <td>False</td>\n    </tr>\n    <tr>\n      <th>8070</th>\n      <td>id_qgxtderh4p</td>\n      <td>647f3a5d69df500029a2fc93</td>\n      <td>-1.268877</td>\n      <td>36.819139</td>\n      <td>Nairobi</td>\n      <td>Kenya</td>\n      <td>2024-01-27</td>\n      <td>10</td>\n      <td>0.000089</td>\n      <td>0.752415</td>\n      <td>...</td>\n      <td>48.218334</td>\n      <td>-144.969040</td>\n      <td>21.264854</td>\n      <td>13.103000</td>\n      <td>2024-01-27 10:00:00</td>\n      <td>False</td>\n      <td>False</td>\n      <td>False</td>\n      <td>False</td>\n      <td>False</td>\n    </tr>\n  </tbody>\n</table>\n<p>8071 rows × 79 columns</p>\n</div>"
     },
     "execution_count": 153,
     "metadata": {},
     "output_type": "execute_result"
    }
   ],
   "source": [
    "dataframe = dataframe.drop(columns=[col for col in dataframe.columns if \"uvaerosollayerheight\" in col])\n",
    "dataframe"
   ],
   "metadata": {
    "collapsed": false,
    "ExecuteTime": {
     "end_time": "2024-04-16T11:53:23.091756Z",
     "start_time": "2024-04-16T11:53:23.061398Z"
    }
   },
   "id": "4254eb11d4e21a56",
   "execution_count": 153
  },
  {
   "cell_type": "code",
   "outputs": [
    {
     "data": {
      "text/plain": "                       site_id            datetime  cloud_cloud_fraction\n4473  65836b9f363e1b00135acaf1 2024-01-27 13:00:00              0.056594\n4472  65836b9f363e1b00135acaf1 2024-01-26 12:00:00              0.068514\n4471  65836b9f363e1b00135acaf1 2024-01-25 12:00:00              0.067301\n4470  65836b9f363e1b00135acaf1 2024-01-24 13:00:00                   NaN\n4469  65836b9f363e1b00135acaf1 2024-01-16 12:00:00                   NaN\n...                        ...                 ...                   ...\n206   60d058c8048305120d2d6147 2024-01-24 11:00:00                   NaN\n205   60d058c8048305120d2d6147 2023-06-09 11:00:00              0.164555\n204   60d058c8048305120d2d6147 2023-06-08 11:00:00              0.018728\n203   60d058c8048305120d2d6147 2023-06-07 12:00:00                   NaN\n202   60d058c8048305120d2d6147 2023-05-11 10:00:00              0.568857\n\n[8071 rows x 3 columns]",
      "text/html": "<div>\n<style scoped>\n    .dataframe tbody tr th:only-of-type {\n        vertical-align: middle;\n    }\n\n    .dataframe tbody tr th {\n        vertical-align: top;\n    }\n\n    .dataframe thead th {\n        text-align: right;\n    }\n</style>\n<table border=\"1\" class=\"dataframe\">\n  <thead>\n    <tr style=\"text-align: right;\">\n      <th></th>\n      <th>site_id</th>\n      <th>datetime</th>\n      <th>cloud_cloud_fraction</th>\n    </tr>\n  </thead>\n  <tbody>\n    <tr>\n      <th>4473</th>\n      <td>65836b9f363e1b00135acaf1</td>\n      <td>2024-01-27 13:00:00</td>\n      <td>0.056594</td>\n    </tr>\n    <tr>\n      <th>4472</th>\n      <td>65836b9f363e1b00135acaf1</td>\n      <td>2024-01-26 12:00:00</td>\n      <td>0.068514</td>\n    </tr>\n    <tr>\n      <th>4471</th>\n      <td>65836b9f363e1b00135acaf1</td>\n      <td>2024-01-25 12:00:00</td>\n      <td>0.067301</td>\n    </tr>\n    <tr>\n      <th>4470</th>\n      <td>65836b9f363e1b00135acaf1</td>\n      <td>2024-01-24 13:00:00</td>\n      <td>NaN</td>\n    </tr>\n    <tr>\n      <th>4469</th>\n      <td>65836b9f363e1b00135acaf1</td>\n      <td>2024-01-16 12:00:00</td>\n      <td>NaN</td>\n    </tr>\n    <tr>\n      <th>...</th>\n      <td>...</td>\n      <td>...</td>\n      <td>...</td>\n    </tr>\n    <tr>\n      <th>206</th>\n      <td>60d058c8048305120d2d6147</td>\n      <td>2024-01-24 11:00:00</td>\n      <td>NaN</td>\n    </tr>\n    <tr>\n      <th>205</th>\n      <td>60d058c8048305120d2d6147</td>\n      <td>2023-06-09 11:00:00</td>\n      <td>0.164555</td>\n    </tr>\n    <tr>\n      <th>204</th>\n      <td>60d058c8048305120d2d6147</td>\n      <td>2023-06-08 11:00:00</td>\n      <td>0.018728</td>\n    </tr>\n    <tr>\n      <th>203</th>\n      <td>60d058c8048305120d2d6147</td>\n      <td>2023-06-07 12:00:00</td>\n      <td>NaN</td>\n    </tr>\n    <tr>\n      <th>202</th>\n      <td>60d058c8048305120d2d6147</td>\n      <td>2023-05-11 10:00:00</td>\n      <td>0.568857</td>\n    </tr>\n  </tbody>\n</table>\n<p>8071 rows × 3 columns</p>\n</div>"
     },
     "execution_count": 154,
     "metadata": {},
     "output_type": "execute_result"
    }
   ],
   "source": [
    "dataframe[[\"site_id\", \"datetime\", \"cloud_cloud_fraction\"]].sort_values(by=[\"site_id\", \"datetime\"], ascending=False)"
   ],
   "metadata": {
    "collapsed": false,
    "ExecuteTime": {
     "end_time": "2024-04-16T11:53:23.104416Z",
     "start_time": "2024-04-16T11:53:23.093466Z"
    }
   },
   "id": "f32c07b72b30e4d9",
   "execution_count": 154
  },
  {
   "cell_type": "code",
   "outputs": [
    {
     "data": {
      "text/plain": "      sulphurdioxide_so2_column_number_density  \\\n4473                                 -0.000951   \n4472                                       NaN   \n4471                                 -0.000088   \n4470                                 -0.000400   \n4469                                  0.001001   \n4468                                 -0.000241   \n4467                                       NaN   \n4466                                  0.000199   \n4465                                       NaN   \n\n      sulphurdioxide_so2_column_number_density_amf  \\\n4473                                      0.361553   \n4472                                           NaN   \n4471                                      0.535323   \n4470                                      0.578403   \n4469                                      0.501419   \n4468                                      0.602413   \n4467                                           NaN   \n4466                                      0.655732   \n4465                                           NaN   \n\n      sulphurdioxide_so2_slant_column_number_density  \\\n4473                                       -0.000344   \n4472                                             NaN   \n4471                                       -0.000047   \n4470                                       -0.000231   \n4469                                        0.000502   \n4468                                       -0.000145   \n4467                                             NaN   \n4466                                        0.000131   \n4465                                             NaN   \n\n      sulphurdioxide_cloud_fraction  sulphurdioxide_sensor_azimuth_angle  \\\n4473                       0.057521                           -95.917404   \n4472                            NaN                                  NaN   \n4471                       0.068317                            74.470161   \n4470                       0.040088                          -102.182014   \n4469                       0.016993                            70.093834   \n4468                       0.087655                            72.435156   \n4467                            NaN                                  NaN   \n4466                       0.246213                          -100.957397   \n4465                            NaN                                  NaN   \n\n      sulphurdioxide_sensor_zenith_angle  sulphurdioxide_solar_azimuth_angle  \\\n4473                           65.097076                         -130.489532   \n4472                                 NaN                                 NaN   \n4471                           30.092440                         -150.703400   \n4470                            7.507707                         -143.777054   \n4469                           64.352905                         -164.888031   \n4468                           47.564489                         -156.593798   \n4467                                 NaN                                 NaN   \n4466                           20.287094                         -143.126312   \n4465                                 NaN                                 NaN   \n\n      sulphurdioxide_solar_zenith_angle  \\\n4473                          39.014580   \n4472                                NaN   \n4471                          29.415739   \n4470                          32.169048   \n4469                          28.559998   \n4468                          30.301520   \n4467                                NaN   \n4466                          35.352448   \n4465                                NaN   \n\n      sulphurdioxide_so2_column_number_density_15km  month  ...  \\\n4473                                      -0.000126      1  ...   \n4472                                            NaN      1  ...   \n4471                                      -0.000021      1  ...   \n4470                                      -0.000113      1  ...   \n4469                                       0.000172      1  ...   \n4468                                      -0.000058      1  ...   \n4467                                            NaN      1  ...   \n4466                                       0.000060      1  ...   \n4465                                            NaN     12  ...   \n\n      cloud_sensor_zenith_angle  cloud_solar_azimuth_angle  \\\n4473                  65.097191                -130.489487   \n4472                  54.231277                -158.785049   \n4471                  30.092365                -150.703384   \n4470                        NaN                        NaN   \n4469                        NaN                        NaN   \n4468                  47.564129                -156.593704   \n4467                        NaN                        NaN   \n4466                        NaN                        NaN   \n4465                        NaN                        NaN   \n\n      cloud_solar_zenith_angle      pm2_5            datetime  \\\n4473                 39.014614  79.647222 2024-01-27 13:00:00   \n4472                 27.205864  58.958500 2024-01-26 12:00:00   \n4471                 29.415747  66.272750 2024-01-25 12:00:00   \n4470                       NaN  51.686500 2024-01-24 13:00:00   \n4469                       NaN  61.439250 2024-01-16 12:00:00   \n4468                 30.301573  58.818750 2024-01-15 12:00:00   \n4467                       NaN  50.850750 2024-01-14 13:00:00   \n4466                       NaN  56.787000 2024-01-13 13:00:00   \n4465                       NaN  51.228500 2023-12-31 12:00:00   \n\n      missing_carbonmonoxide  missing_formaldehyde  missing_nitrogendioxide  \\\n4473                   False                 False                    False   \n4472                   False                 False                    False   \n4471                    True                 False                    False   \n4470                   False                 False                    False   \n4469                   False                 False                    False   \n4468                    True                 False                    False   \n4467                   False                 False                     True   \n4466                   False                 False                     True   \n4465                   False                 False                    False   \n\n      missing_sulphurdioxide  missing_uvaerosolindex  \n4473                   False                   False  \n4472                    True                   False  \n4471                   False                   False  \n4470                   False                   False  \n4469                   False                   False  \n4468                   False                   False  \n4467                    True                   False  \n4466                   False                   False  \n4465                    True                   False  \n\n[9 rows x 71 columns]",
      "text/html": "<div>\n<style scoped>\n    .dataframe tbody tr th:only-of-type {\n        vertical-align: middle;\n    }\n\n    .dataframe tbody tr th {\n        vertical-align: top;\n    }\n\n    .dataframe thead th {\n        text-align: right;\n    }\n</style>\n<table border=\"1\" class=\"dataframe\">\n  <thead>\n    <tr style=\"text-align: right;\">\n      <th></th>\n      <th>sulphurdioxide_so2_column_number_density</th>\n      <th>sulphurdioxide_so2_column_number_density_amf</th>\n      <th>sulphurdioxide_so2_slant_column_number_density</th>\n      <th>sulphurdioxide_cloud_fraction</th>\n      <th>sulphurdioxide_sensor_azimuth_angle</th>\n      <th>sulphurdioxide_sensor_zenith_angle</th>\n      <th>sulphurdioxide_solar_azimuth_angle</th>\n      <th>sulphurdioxide_solar_zenith_angle</th>\n      <th>sulphurdioxide_so2_column_number_density_15km</th>\n      <th>month</th>\n      <th>...</th>\n      <th>cloud_sensor_zenith_angle</th>\n      <th>cloud_solar_azimuth_angle</th>\n      <th>cloud_solar_zenith_angle</th>\n      <th>pm2_5</th>\n      <th>datetime</th>\n      <th>missing_carbonmonoxide</th>\n      <th>missing_formaldehyde</th>\n      <th>missing_nitrogendioxide</th>\n      <th>missing_sulphurdioxide</th>\n      <th>missing_uvaerosolindex</th>\n    </tr>\n  </thead>\n  <tbody>\n    <tr>\n      <th>4473</th>\n      <td>-0.000951</td>\n      <td>0.361553</td>\n      <td>-0.000344</td>\n      <td>0.057521</td>\n      <td>-95.917404</td>\n      <td>65.097076</td>\n      <td>-130.489532</td>\n      <td>39.014580</td>\n      <td>-0.000126</td>\n      <td>1</td>\n      <td>...</td>\n      <td>65.097191</td>\n      <td>-130.489487</td>\n      <td>39.014614</td>\n      <td>79.647222</td>\n      <td>2024-01-27 13:00:00</td>\n      <td>False</td>\n      <td>False</td>\n      <td>False</td>\n      <td>False</td>\n      <td>False</td>\n    </tr>\n    <tr>\n      <th>4472</th>\n      <td>NaN</td>\n      <td>NaN</td>\n      <td>NaN</td>\n      <td>NaN</td>\n      <td>NaN</td>\n      <td>NaN</td>\n      <td>NaN</td>\n      <td>NaN</td>\n      <td>NaN</td>\n      <td>1</td>\n      <td>...</td>\n      <td>54.231277</td>\n      <td>-158.785049</td>\n      <td>27.205864</td>\n      <td>58.958500</td>\n      <td>2024-01-26 12:00:00</td>\n      <td>False</td>\n      <td>False</td>\n      <td>False</td>\n      <td>True</td>\n      <td>False</td>\n    </tr>\n    <tr>\n      <th>4471</th>\n      <td>-0.000088</td>\n      <td>0.535323</td>\n      <td>-0.000047</td>\n      <td>0.068317</td>\n      <td>74.470161</td>\n      <td>30.092440</td>\n      <td>-150.703400</td>\n      <td>29.415739</td>\n      <td>-0.000021</td>\n      <td>1</td>\n      <td>...</td>\n      <td>30.092365</td>\n      <td>-150.703384</td>\n      <td>29.415747</td>\n      <td>66.272750</td>\n      <td>2024-01-25 12:00:00</td>\n      <td>True</td>\n      <td>False</td>\n      <td>False</td>\n      <td>False</td>\n      <td>False</td>\n    </tr>\n    <tr>\n      <th>4470</th>\n      <td>-0.000400</td>\n      <td>0.578403</td>\n      <td>-0.000231</td>\n      <td>0.040088</td>\n      <td>-102.182014</td>\n      <td>7.507707</td>\n      <td>-143.777054</td>\n      <td>32.169048</td>\n      <td>-0.000113</td>\n      <td>1</td>\n      <td>...</td>\n      <td>NaN</td>\n      <td>NaN</td>\n      <td>NaN</td>\n      <td>51.686500</td>\n      <td>2024-01-24 13:00:00</td>\n      <td>False</td>\n      <td>False</td>\n      <td>False</td>\n      <td>False</td>\n      <td>False</td>\n    </tr>\n    <tr>\n      <th>4469</th>\n      <td>0.001001</td>\n      <td>0.501419</td>\n      <td>0.000502</td>\n      <td>0.016993</td>\n      <td>70.093834</td>\n      <td>64.352905</td>\n      <td>-164.888031</td>\n      <td>28.559998</td>\n      <td>0.000172</td>\n      <td>1</td>\n      <td>...</td>\n      <td>NaN</td>\n      <td>NaN</td>\n      <td>NaN</td>\n      <td>61.439250</td>\n      <td>2024-01-16 12:00:00</td>\n      <td>False</td>\n      <td>False</td>\n      <td>False</td>\n      <td>False</td>\n      <td>False</td>\n    </tr>\n    <tr>\n      <th>4468</th>\n      <td>-0.000241</td>\n      <td>0.602413</td>\n      <td>-0.000145</td>\n      <td>0.087655</td>\n      <td>72.435156</td>\n      <td>47.564489</td>\n      <td>-156.593798</td>\n      <td>30.301520</td>\n      <td>-0.000058</td>\n      <td>1</td>\n      <td>...</td>\n      <td>47.564129</td>\n      <td>-156.593704</td>\n      <td>30.301573</td>\n      <td>58.818750</td>\n      <td>2024-01-15 12:00:00</td>\n      <td>True</td>\n      <td>False</td>\n      <td>False</td>\n      <td>False</td>\n      <td>False</td>\n    </tr>\n    <tr>\n      <th>4467</th>\n      <td>NaN</td>\n      <td>NaN</td>\n      <td>NaN</td>\n      <td>NaN</td>\n      <td>NaN</td>\n      <td>NaN</td>\n      <td>NaN</td>\n      <td>NaN</td>\n      <td>NaN</td>\n      <td>1</td>\n      <td>...</td>\n      <td>NaN</td>\n      <td>NaN</td>\n      <td>NaN</td>\n      <td>50.850750</td>\n      <td>2024-01-14 13:00:00</td>\n      <td>False</td>\n      <td>False</td>\n      <td>True</td>\n      <td>True</td>\n      <td>False</td>\n    </tr>\n    <tr>\n      <th>4466</th>\n      <td>0.000199</td>\n      <td>0.655732</td>\n      <td>0.000131</td>\n      <td>0.246213</td>\n      <td>-100.957397</td>\n      <td>20.287094</td>\n      <td>-143.126312</td>\n      <td>35.352448</td>\n      <td>0.000060</td>\n      <td>1</td>\n      <td>...</td>\n      <td>NaN</td>\n      <td>NaN</td>\n      <td>NaN</td>\n      <td>56.787000</td>\n      <td>2024-01-13 13:00:00</td>\n      <td>False</td>\n      <td>False</td>\n      <td>True</td>\n      <td>False</td>\n      <td>False</td>\n    </tr>\n    <tr>\n      <th>4465</th>\n      <td>NaN</td>\n      <td>NaN</td>\n      <td>NaN</td>\n      <td>NaN</td>\n      <td>NaN</td>\n      <td>NaN</td>\n      <td>NaN</td>\n      <td>NaN</td>\n      <td>NaN</td>\n      <td>12</td>\n      <td>...</td>\n      <td>NaN</td>\n      <td>NaN</td>\n      <td>NaN</td>\n      <td>51.228500</td>\n      <td>2023-12-31 12:00:00</td>\n      <td>False</td>\n      <td>False</td>\n      <td>False</td>\n      <td>True</td>\n      <td>False</td>\n    </tr>\n  </tbody>\n</table>\n<p>9 rows × 71 columns</p>\n</div>"
     },
     "execution_count": 155,
     "metadata": {},
     "output_type": "execute_result"
    }
   ],
   "source": [
    "dataframe[dataframe.site_id == \"65836b9f363e1b00135acaf1\"].drop(columns=[\"site_latitude\", \"site_longitude\", \"city\", \"country\", \"hour\", \"id\", \"date\", \"site_id\"]).sort_values(by=\"datetime\", ascending=False)"
   ],
   "metadata": {
    "collapsed": false,
    "ExecuteTime": {
     "end_time": "2024-04-16T11:53:23.130073Z",
     "start_time": "2024-04-16T11:53:23.105561Z"
    }
   },
   "id": "8c82fc1cefcb9bc6",
   "execution_count": 155
  },
  {
   "cell_type": "code",
   "outputs": [
    {
     "name": "stdout",
     "output_type": "stream",
     "text": [
      "<class 'pandas.core.frame.DataFrame'>\n",
      "Index: 9 entries, 4465 to 4473\n",
      "Data columns (total 65 columns):\n",
      " #   Column                                                    Non-Null Count  Dtype  \n",
      "---  ------                                                    --------------  -----  \n",
      " 0   sulphurdioxide_so2_column_number_density                  6 non-null      float64\n",
      " 1   sulphurdioxide_so2_column_number_density_amf              6 non-null      float64\n",
      " 2   sulphurdioxide_so2_slant_column_number_density            6 non-null      float64\n",
      " 3   sulphurdioxide_cloud_fraction                             6 non-null      float64\n",
      " 4   sulphurdioxide_sensor_azimuth_angle                       6 non-null      float64\n",
      " 5   sulphurdioxide_sensor_zenith_angle                        6 non-null      float64\n",
      " 6   sulphurdioxide_solar_azimuth_angle                        6 non-null      float64\n",
      " 7   sulphurdioxide_solar_zenith_angle                         6 non-null      float64\n",
      " 8   sulphurdioxide_so2_column_number_density_15km             6 non-null      float64\n",
      " 9   month                                                     9 non-null      int32  \n",
      " 10  carbonmonoxide_co_column_number_density                   7 non-null      float64\n",
      " 11  carbonmonoxide_h2o_column_number_density                  7 non-null      float64\n",
      " 12  carbonmonoxide_cloud_height                               7 non-null      float64\n",
      " 13  carbonmonoxide_sensor_altitude                            7 non-null      float64\n",
      " 14  carbonmonoxide_sensor_azimuth_angle                       7 non-null      float64\n",
      " 15  carbonmonoxide_sensor_zenith_angle                        7 non-null      float64\n",
      " 16  carbonmonoxide_solar_azimuth_angle                        7 non-null      float64\n",
      " 17  carbonmonoxide_solar_zenith_angle                         7 non-null      float64\n",
      " 18  nitrogendioxide_no2_column_number_density                 7 non-null      float64\n",
      " 19  nitrogendioxide_tropospheric_no2_column_number_density    7 non-null      float64\n",
      " 20  nitrogendioxide_stratospheric_no2_column_number_density   7 non-null      float64\n",
      " 21  nitrogendioxide_no2_slant_column_number_density           7 non-null      float64\n",
      " 22  nitrogendioxide_tropopause_pressure                       7 non-null      float64\n",
      " 23  nitrogendioxide_absorbing_aerosol_index                   7 non-null      float64\n",
      " 24  nitrogendioxide_cloud_fraction                            7 non-null      float64\n",
      " 25  nitrogendioxide_sensor_altitude                           7 non-null      float64\n",
      " 26  nitrogendioxide_sensor_azimuth_angle                      7 non-null      float64\n",
      " 27  nitrogendioxide_sensor_zenith_angle                       7 non-null      float64\n",
      " 28  nitrogendioxide_solar_azimuth_angle                       7 non-null      float64\n",
      " 29  nitrogendioxide_solar_zenith_angle                        7 non-null      float64\n",
      " 30  formaldehyde_tropospheric_hcho_column_number_density      9 non-null      float64\n",
      " 31  formaldehyde_tropospheric_hcho_column_number_density_amf  9 non-null      float64\n",
      " 32  formaldehyde_hcho_slant_column_number_density             9 non-null      float64\n",
      " 33  formaldehyde_cloud_fraction                               9 non-null      float64\n",
      " 34  formaldehyde_solar_zenith_angle                           9 non-null      float64\n",
      " 35  formaldehyde_solar_azimuth_angle                          9 non-null      float64\n",
      " 36  formaldehyde_sensor_zenith_angle                          9 non-null      float64\n",
      " 37  formaldehyde_sensor_azimuth_angle                         9 non-null      float64\n",
      " 38  uvaerosolindex_absorbing_aerosol_index                    9 non-null      float64\n",
      " 39  uvaerosolindex_sensor_altitude                            9 non-null      float64\n",
      " 40  uvaerosolindex_sensor_azimuth_angle                       9 non-null      float64\n",
      " 41  uvaerosolindex_sensor_zenith_angle                        9 non-null      float64\n",
      " 42  uvaerosolindex_solar_azimuth_angle                        9 non-null      float64\n",
      " 43  uvaerosolindex_solar_zenith_angle                         9 non-null      float64\n",
      " 44  ozone_o3_column_number_density                            9 non-null      float64\n",
      " 45  ozone_o3_column_number_density_amf                        9 non-null      float64\n",
      " 46  ozone_o3_slant_column_number_density                      9 non-null      float64\n",
      " 47  ozone_o3_effective_temperature                            9 non-null      float64\n",
      " 48  ozone_cloud_fraction                                      9 non-null      float64\n",
      " 49  ozone_sensor_azimuth_angle                                9 non-null      float64\n",
      " 50  ozone_sensor_zenith_angle                                 9 non-null      float64\n",
      " 51  ozone_solar_azimuth_angle                                 9 non-null      float64\n",
      " 52  ozone_solar_zenith_angle                                  9 non-null      float64\n",
      " 53  cloud_cloud_fraction                                      4 non-null      float64\n",
      " 54  cloud_cloud_top_pressure                                  4 non-null      float64\n",
      " 55  cloud_cloud_top_height                                    4 non-null      float64\n",
      " 56  cloud_cloud_base_pressure                                 4 non-null      float64\n",
      " 57  cloud_cloud_base_height                                   4 non-null      float64\n",
      " 58  cloud_cloud_optical_depth                                 4 non-null      float64\n",
      " 59  cloud_surface_albedo                                      4 non-null      float64\n",
      " 60  cloud_sensor_azimuth_angle                                4 non-null      float64\n",
      " 61  cloud_sensor_zenith_angle                                 4 non-null      float64\n",
      " 62  cloud_solar_azimuth_angle                                 4 non-null      float64\n",
      " 63  cloud_solar_zenith_angle                                  4 non-null      float64\n",
      " 64  pm2_5                                                     9 non-null      float64\n",
      "dtypes: float64(64), int32(1)\n",
      "memory usage: 4.6 KB\n"
     ]
    }
   ],
   "source": [
    "imputer_dataset: pd.DataFrame = dataframe[dataframe.site_id == \"65836b9f363e1b00135acaf1\"].drop(columns=['missing_carbonmonoxide', 'missing_formaldehyde',\n",
    "                                                                                                         'missing_nitrogendioxide', 'missing_sulphurdioxide',\n",
    "                                                                                                         'missing_uvaerosolindex', 'id', 'site_id', 'site_latitude', 'site_longitude', 'city', 'country',\n",
    "                                                                                                         'date', 'hour', \"datetime\"])\n",
    "imputer_dataset.info()"
   ],
   "metadata": {
    "collapsed": false,
    "ExecuteTime": {
     "end_time": "2024-04-16T11:53:23.144692Z",
     "start_time": "2024-04-16T11:53:23.131614Z"
    }
   },
   "id": "6a4646db8f424952",
   "execution_count": 156
  },
  {
   "cell_type": "code",
   "outputs": [],
   "source": [
    "from sklearn.impute import KNNImputer\n",
    "\n",
    "\n",
    "imputer = KNNImputer(\n",
    "        missing_values=np.nan,\n",
    "        add_indicator=True,\n",
    "        n_neighbors=5,\n",
    "    )\n",
    "imputer.set_output(transform=\"pandas\")\n",
    "\n",
    "imputed_dataset: pd.DataFrame = imputer.fit_transform(imputer_dataset)"
   ],
   "metadata": {
    "collapsed": false,
    "ExecuteTime": {
     "end_time": "2024-04-16T11:53:23.167923Z",
     "start_time": "2024-04-16T11:53:23.145535Z"
    }
   },
   "id": "c6d631b7874f9279",
   "execution_count": 157
  },
  {
   "cell_type": "code",
   "outputs": [
    {
     "data": {
      "text/plain": "      sulphurdioxide_so2_column_number_density  \\\n4465                                       NaN   \n4466                                  0.000199   \n4467                                       NaN   \n4468                                 -0.000241   \n4469                                  0.001001   \n4470                                 -0.000400   \n4471                                 -0.000088   \n4472                                       NaN   \n4473                                 -0.000951   \n\n      sulphurdioxide_so2_column_number_density_amf  \\\n4465                                           NaN   \n4466                                      0.655732   \n4467                                           NaN   \n4468                                      0.602413   \n4469                                      0.501419   \n4470                                      0.578403   \n4471                                      0.535323   \n4472                                           NaN   \n4473                                      0.361553   \n\n      sulphurdioxide_so2_slant_column_number_density  \\\n4465                                             NaN   \n4466                                        0.000131   \n4467                                             NaN   \n4468                                       -0.000145   \n4469                                        0.000502   \n4470                                       -0.000231   \n4471                                       -0.000047   \n4472                                             NaN   \n4473                                       -0.000344   \n\n      sulphurdioxide_cloud_fraction  sulphurdioxide_sensor_azimuth_angle  \\\n4465                            NaN                                  NaN   \n4466                       0.246213                          -100.957397   \n4467                            NaN                                  NaN   \n4468                       0.087655                            72.435156   \n4469                       0.016993                            70.093834   \n4470                       0.040088                          -102.182014   \n4471                       0.068317                            74.470161   \n4472                            NaN                                  NaN   \n4473                       0.057521                           -95.917404   \n\n      sulphurdioxide_sensor_zenith_angle  sulphurdioxide_solar_azimuth_angle  \\\n4465                                 NaN                                 NaN   \n4466                           20.287094                         -143.126312   \n4467                                 NaN                                 NaN   \n4468                           47.564489                         -156.593798   \n4469                           64.352905                         -164.888031   \n4470                            7.507707                         -143.777054   \n4471                           30.092440                         -150.703400   \n4472                                 NaN                                 NaN   \n4473                           65.097076                         -130.489532   \n\n      sulphurdioxide_solar_zenith_angle  \\\n4465                                NaN   \n4466                          35.352448   \n4467                                NaN   \n4468                          30.301520   \n4469                          28.559998   \n4470                          32.169048   \n4471                          29.415739   \n4472                                NaN   \n4473                          39.014580   \n\n      sulphurdioxide_so2_column_number_density_15km  month  ...  \\\n4465                                            NaN     12  ...   \n4466                                       0.000060      1  ...   \n4467                                            NaN      1  ...   \n4468                                      -0.000058      1  ...   \n4469                                       0.000172      1  ...   \n4470                                      -0.000113      1  ...   \n4471                                      -0.000021      1  ...   \n4472                                            NaN      1  ...   \n4473                                      -0.000126      1  ...   \n\n      cloud_cloud_top_height  cloud_cloud_base_pressure  \\\n4465                     NaN                        NaN   \n4466                     NaN                        NaN   \n4467                     NaN                        NaN   \n4468             9766.171875               34918.171875   \n4469                     NaN                        NaN   \n4470                     NaN                        NaN   \n4471             6752.268555               51473.234375   \n4472             7419.905273               46758.355469   \n4473             6603.147949               52142.632812   \n\n      cloud_cloud_base_height  cloud_cloud_optical_depth  \\\n4465                      NaN                        NaN   \n4466                      NaN                        NaN   \n4467                      NaN                        NaN   \n4468              8766.171875                   3.763978   \n4469                      NaN                        NaN   \n4470                      NaN                        NaN   \n4471              5752.268555                   3.009970   \n4472              6419.905273                   3.113338   \n4473              5603.147949                   3.301844   \n\n      cloud_surface_albedo  cloud_sensor_azimuth_angle  \\\n4465                   NaN                         NaN   \n4466                   NaN                         NaN   \n4467                   NaN                         NaN   \n4468              0.205068                   72.435188   \n4469                   NaN                         NaN   \n4470                   NaN                         NaN   \n4471              0.200597                   74.470154   \n4472              0.203401                   71.556526   \n4473              0.214454                  -95.917404   \n\n      cloud_sensor_zenith_angle  cloud_solar_azimuth_angle  \\\n4465                        NaN                        NaN   \n4466                        NaN                        NaN   \n4467                        NaN                        NaN   \n4468                  47.564129                -156.593704   \n4469                        NaN                        NaN   \n4470                        NaN                        NaN   \n4471                  30.092365                -150.703384   \n4472                  54.231277                -158.785049   \n4473                  65.097191                -130.489487   \n\n      cloud_solar_zenith_angle      pm2_5  \n4465                       NaN  51.228500  \n4466                       NaN  56.787000  \n4467                       NaN  50.850750  \n4468                 30.301573  58.818750  \n4469                       NaN  61.439250  \n4470                       NaN  51.686500  \n4471                 29.415747  66.272750  \n4472                 27.205864  58.958500  \n4473                 39.014614  79.647222  \n\n[9 rows x 65 columns]",
      "text/html": "<div>\n<style scoped>\n    .dataframe tbody tr th:only-of-type {\n        vertical-align: middle;\n    }\n\n    .dataframe tbody tr th {\n        vertical-align: top;\n    }\n\n    .dataframe thead th {\n        text-align: right;\n    }\n</style>\n<table border=\"1\" class=\"dataframe\">\n  <thead>\n    <tr style=\"text-align: right;\">\n      <th></th>\n      <th>sulphurdioxide_so2_column_number_density</th>\n      <th>sulphurdioxide_so2_column_number_density_amf</th>\n      <th>sulphurdioxide_so2_slant_column_number_density</th>\n      <th>sulphurdioxide_cloud_fraction</th>\n      <th>sulphurdioxide_sensor_azimuth_angle</th>\n      <th>sulphurdioxide_sensor_zenith_angle</th>\n      <th>sulphurdioxide_solar_azimuth_angle</th>\n      <th>sulphurdioxide_solar_zenith_angle</th>\n      <th>sulphurdioxide_so2_column_number_density_15km</th>\n      <th>month</th>\n      <th>...</th>\n      <th>cloud_cloud_top_height</th>\n      <th>cloud_cloud_base_pressure</th>\n      <th>cloud_cloud_base_height</th>\n      <th>cloud_cloud_optical_depth</th>\n      <th>cloud_surface_albedo</th>\n      <th>cloud_sensor_azimuth_angle</th>\n      <th>cloud_sensor_zenith_angle</th>\n      <th>cloud_solar_azimuth_angle</th>\n      <th>cloud_solar_zenith_angle</th>\n      <th>pm2_5</th>\n    </tr>\n  </thead>\n  <tbody>\n    <tr>\n      <th>4465</th>\n      <td>NaN</td>\n      <td>NaN</td>\n      <td>NaN</td>\n      <td>NaN</td>\n      <td>NaN</td>\n      <td>NaN</td>\n      <td>NaN</td>\n      <td>NaN</td>\n      <td>NaN</td>\n      <td>12</td>\n      <td>...</td>\n      <td>NaN</td>\n      <td>NaN</td>\n      <td>NaN</td>\n      <td>NaN</td>\n      <td>NaN</td>\n      <td>NaN</td>\n      <td>NaN</td>\n      <td>NaN</td>\n      <td>NaN</td>\n      <td>51.228500</td>\n    </tr>\n    <tr>\n      <th>4466</th>\n      <td>0.000199</td>\n      <td>0.655732</td>\n      <td>0.000131</td>\n      <td>0.246213</td>\n      <td>-100.957397</td>\n      <td>20.287094</td>\n      <td>-143.126312</td>\n      <td>35.352448</td>\n      <td>0.000060</td>\n      <td>1</td>\n      <td>...</td>\n      <td>NaN</td>\n      <td>NaN</td>\n      <td>NaN</td>\n      <td>NaN</td>\n      <td>NaN</td>\n      <td>NaN</td>\n      <td>NaN</td>\n      <td>NaN</td>\n      <td>NaN</td>\n      <td>56.787000</td>\n    </tr>\n    <tr>\n      <th>4467</th>\n      <td>NaN</td>\n      <td>NaN</td>\n      <td>NaN</td>\n      <td>NaN</td>\n      <td>NaN</td>\n      <td>NaN</td>\n      <td>NaN</td>\n      <td>NaN</td>\n      <td>NaN</td>\n      <td>1</td>\n      <td>...</td>\n      <td>NaN</td>\n      <td>NaN</td>\n      <td>NaN</td>\n      <td>NaN</td>\n      <td>NaN</td>\n      <td>NaN</td>\n      <td>NaN</td>\n      <td>NaN</td>\n      <td>NaN</td>\n      <td>50.850750</td>\n    </tr>\n    <tr>\n      <th>4468</th>\n      <td>-0.000241</td>\n      <td>0.602413</td>\n      <td>-0.000145</td>\n      <td>0.087655</td>\n      <td>72.435156</td>\n      <td>47.564489</td>\n      <td>-156.593798</td>\n      <td>30.301520</td>\n      <td>-0.000058</td>\n      <td>1</td>\n      <td>...</td>\n      <td>9766.171875</td>\n      <td>34918.171875</td>\n      <td>8766.171875</td>\n      <td>3.763978</td>\n      <td>0.205068</td>\n      <td>72.435188</td>\n      <td>47.564129</td>\n      <td>-156.593704</td>\n      <td>30.301573</td>\n      <td>58.818750</td>\n    </tr>\n    <tr>\n      <th>4469</th>\n      <td>0.001001</td>\n      <td>0.501419</td>\n      <td>0.000502</td>\n      <td>0.016993</td>\n      <td>70.093834</td>\n      <td>64.352905</td>\n      <td>-164.888031</td>\n      <td>28.559998</td>\n      <td>0.000172</td>\n      <td>1</td>\n      <td>...</td>\n      <td>NaN</td>\n      <td>NaN</td>\n      <td>NaN</td>\n      <td>NaN</td>\n      <td>NaN</td>\n      <td>NaN</td>\n      <td>NaN</td>\n      <td>NaN</td>\n      <td>NaN</td>\n      <td>61.439250</td>\n    </tr>\n    <tr>\n      <th>4470</th>\n      <td>-0.000400</td>\n      <td>0.578403</td>\n      <td>-0.000231</td>\n      <td>0.040088</td>\n      <td>-102.182014</td>\n      <td>7.507707</td>\n      <td>-143.777054</td>\n      <td>32.169048</td>\n      <td>-0.000113</td>\n      <td>1</td>\n      <td>...</td>\n      <td>NaN</td>\n      <td>NaN</td>\n      <td>NaN</td>\n      <td>NaN</td>\n      <td>NaN</td>\n      <td>NaN</td>\n      <td>NaN</td>\n      <td>NaN</td>\n      <td>NaN</td>\n      <td>51.686500</td>\n    </tr>\n    <tr>\n      <th>4471</th>\n      <td>-0.000088</td>\n      <td>0.535323</td>\n      <td>-0.000047</td>\n      <td>0.068317</td>\n      <td>74.470161</td>\n      <td>30.092440</td>\n      <td>-150.703400</td>\n      <td>29.415739</td>\n      <td>-0.000021</td>\n      <td>1</td>\n      <td>...</td>\n      <td>6752.268555</td>\n      <td>51473.234375</td>\n      <td>5752.268555</td>\n      <td>3.009970</td>\n      <td>0.200597</td>\n      <td>74.470154</td>\n      <td>30.092365</td>\n      <td>-150.703384</td>\n      <td>29.415747</td>\n      <td>66.272750</td>\n    </tr>\n    <tr>\n      <th>4472</th>\n      <td>NaN</td>\n      <td>NaN</td>\n      <td>NaN</td>\n      <td>NaN</td>\n      <td>NaN</td>\n      <td>NaN</td>\n      <td>NaN</td>\n      <td>NaN</td>\n      <td>NaN</td>\n      <td>1</td>\n      <td>...</td>\n      <td>7419.905273</td>\n      <td>46758.355469</td>\n      <td>6419.905273</td>\n      <td>3.113338</td>\n      <td>0.203401</td>\n      <td>71.556526</td>\n      <td>54.231277</td>\n      <td>-158.785049</td>\n      <td>27.205864</td>\n      <td>58.958500</td>\n    </tr>\n    <tr>\n      <th>4473</th>\n      <td>-0.000951</td>\n      <td>0.361553</td>\n      <td>-0.000344</td>\n      <td>0.057521</td>\n      <td>-95.917404</td>\n      <td>65.097076</td>\n      <td>-130.489532</td>\n      <td>39.014580</td>\n      <td>-0.000126</td>\n      <td>1</td>\n      <td>...</td>\n      <td>6603.147949</td>\n      <td>52142.632812</td>\n      <td>5603.147949</td>\n      <td>3.301844</td>\n      <td>0.214454</td>\n      <td>-95.917404</td>\n      <td>65.097191</td>\n      <td>-130.489487</td>\n      <td>39.014614</td>\n      <td>79.647222</td>\n    </tr>\n  </tbody>\n</table>\n<p>9 rows × 65 columns</p>\n</div>"
     },
     "execution_count": 158,
     "metadata": {},
     "output_type": "execute_result"
    }
   ],
   "source": [
    "imputer_dataset"
   ],
   "metadata": {
    "collapsed": false,
    "ExecuteTime": {
     "end_time": "2024-04-16T11:53:23.188500Z",
     "start_time": "2024-04-16T11:53:23.169174Z"
    }
   },
   "id": "7c622af5185d8d2c",
   "execution_count": 158
  },
  {
   "cell_type": "code",
   "outputs": [
    {
     "data": {
      "text/plain": "      sulphurdioxide_so2_column_number_density  \\\n4465                                 -0.000296   \n4466                                  0.000199   \n4467                                  0.000094   \n4468                                 -0.000241   \n4469                                  0.001001   \n4470                                 -0.000400   \n4471                                 -0.000088   \n4472                                 -0.000048   \n4473                                 -0.000951   \n\n      sulphurdioxide_so2_column_number_density_amf  \\\n4465                                      0.546685   \n4466                                      0.655732   \n4467                                      0.574658   \n4468                                      0.602413   \n4469                                      0.501419   \n4470                                      0.578403   \n4471                                      0.535323   \n4472                                      0.526486   \n4473                                      0.361553   \n\n      sulphurdioxide_so2_slant_column_number_density  \\\n4465                                       -0.000127   \n4466                                        0.000131   \n4467                                        0.000042   \n4468                                       -0.000145   \n4469                                        0.000502   \n4470                                       -0.000231   \n4471                                       -0.000047   \n4472                                        0.000002   \n4473                                       -0.000344   \n\n      sulphurdioxide_cloud_fraction  sulphurdioxide_sensor_azimuth_angle  \\\n4465                       0.099959                           -30.430300   \n4466                       0.246213                          -100.957397   \n4467                       0.091853                             2.771948   \n4468                       0.087655                            72.435156   \n4469                       0.016993                            70.093834   \n4470                       0.040088                          -102.182014   \n4471                       0.068317                            74.470161   \n4472                       0.085826                           -30.898564   \n4473                       0.057521                           -95.917404   \n\n      sulphurdioxide_sensor_zenith_angle  sulphurdioxide_solar_azimuth_angle  \\\n4465                           34.109761                         -144.938019   \n4466                           20.287094                         -143.126312   \n4467                           33.960927                         -151.817719   \n4468                           47.564489                         -156.593798   \n4469                           64.352905                         -164.888031   \n4470                            7.507707                         -143.777054   \n4471                           30.092440                         -150.703400   \n4472                           37.467444                         -146.596866   \n4473                           65.097076                         -130.489532   \n\n      sulphurdioxide_solar_zenith_angle  \\\n4465                          33.250667   \n4466                          35.352448   \n4467                          31.159751   \n4468                          30.301520   \n4469                          28.559998   \n4470                          32.169048   \n4471                          29.415739   \n4472                          32.902362   \n4473                          39.014580   \n\n      sulphurdioxide_so2_column_number_density_15km  month  ...  \\\n4465                                      -0.000052   12.0  ...   \n4466                                       0.000060    1.0  ...   \n4467                                       0.000008    1.0  ...   \n4468                                      -0.000058    1.0  ...   \n4469                                       0.000172    1.0  ...   \n4470                                      -0.000113    1.0  ...   \n4471                                      -0.000021    1.0  ...   \n4472                                      -0.000006    1.0  ...   \n4473                                      -0.000126    1.0  ...   \n\n      missingindicator_cloud_cloud_top_pressure  \\\n4465                                        1.0   \n4466                                        1.0   \n4467                                        1.0   \n4468                                        0.0   \n4469                                        1.0   \n4470                                        1.0   \n4471                                        0.0   \n4472                                        0.0   \n4473                                        0.0   \n\n      missingindicator_cloud_cloud_top_height  \\\n4465                                      1.0   \n4466                                      1.0   \n4467                                      1.0   \n4468                                      0.0   \n4469                                      1.0   \n4470                                      1.0   \n4471                                      0.0   \n4472                                      0.0   \n4473                                      0.0   \n\n      missingindicator_cloud_cloud_base_pressure  \\\n4465                                         1.0   \n4466                                         1.0   \n4467                                         1.0   \n4468                                         0.0   \n4469                                         1.0   \n4470                                         1.0   \n4471                                         0.0   \n4472                                         0.0   \n4473                                         0.0   \n\n      missingindicator_cloud_cloud_base_height  \\\n4465                                       1.0   \n4466                                       1.0   \n4467                                       1.0   \n4468                                       0.0   \n4469                                       1.0   \n4470                                       1.0   \n4471                                       0.0   \n4472                                       0.0   \n4473                                       0.0   \n\n      missingindicator_cloud_cloud_optical_depth  \\\n4465                                         1.0   \n4466                                         1.0   \n4467                                         1.0   \n4468                                         0.0   \n4469                                         1.0   \n4470                                         1.0   \n4471                                         0.0   \n4472                                         0.0   \n4473                                         0.0   \n\n      missingindicator_cloud_surface_albedo  \\\n4465                                    1.0   \n4466                                    1.0   \n4467                                    1.0   \n4468                                    0.0   \n4469                                    1.0   \n4470                                    1.0   \n4471                                    0.0   \n4472                                    0.0   \n4473                                    0.0   \n\n      missingindicator_cloud_sensor_azimuth_angle  \\\n4465                                          1.0   \n4466                                          1.0   \n4467                                          1.0   \n4468                                          0.0   \n4469                                          1.0   \n4470                                          1.0   \n4471                                          0.0   \n4472                                          0.0   \n4473                                          0.0   \n\n      missingindicator_cloud_sensor_zenith_angle  \\\n4465                                         1.0   \n4466                                         1.0   \n4467                                         1.0   \n4468                                         0.0   \n4469                                         1.0   \n4470                                         1.0   \n4471                                         0.0   \n4472                                         0.0   \n4473                                         0.0   \n\n      missingindicator_cloud_solar_azimuth_angle  \\\n4465                                         1.0   \n4466                                         1.0   \n4467                                         1.0   \n4468                                         0.0   \n4469                                         1.0   \n4470                                         1.0   \n4471                                         0.0   \n4472                                         0.0   \n4473                                         0.0   \n\n      missingindicator_cloud_solar_zenith_angle  \n4465                                        1.0  \n4466                                        1.0  \n4467                                        1.0  \n4468                                        0.0  \n4469                                        1.0  \n4470                                        1.0  \n4471                                        0.0  \n4472                                        0.0  \n4473                                        0.0  \n\n[9 rows x 105 columns]",
      "text/html": "<div>\n<style scoped>\n    .dataframe tbody tr th:only-of-type {\n        vertical-align: middle;\n    }\n\n    .dataframe tbody tr th {\n        vertical-align: top;\n    }\n\n    .dataframe thead th {\n        text-align: right;\n    }\n</style>\n<table border=\"1\" class=\"dataframe\">\n  <thead>\n    <tr style=\"text-align: right;\">\n      <th></th>\n      <th>sulphurdioxide_so2_column_number_density</th>\n      <th>sulphurdioxide_so2_column_number_density_amf</th>\n      <th>sulphurdioxide_so2_slant_column_number_density</th>\n      <th>sulphurdioxide_cloud_fraction</th>\n      <th>sulphurdioxide_sensor_azimuth_angle</th>\n      <th>sulphurdioxide_sensor_zenith_angle</th>\n      <th>sulphurdioxide_solar_azimuth_angle</th>\n      <th>sulphurdioxide_solar_zenith_angle</th>\n      <th>sulphurdioxide_so2_column_number_density_15km</th>\n      <th>month</th>\n      <th>...</th>\n      <th>missingindicator_cloud_cloud_top_pressure</th>\n      <th>missingindicator_cloud_cloud_top_height</th>\n      <th>missingindicator_cloud_cloud_base_pressure</th>\n      <th>missingindicator_cloud_cloud_base_height</th>\n      <th>missingindicator_cloud_cloud_optical_depth</th>\n      <th>missingindicator_cloud_surface_albedo</th>\n      <th>missingindicator_cloud_sensor_azimuth_angle</th>\n      <th>missingindicator_cloud_sensor_zenith_angle</th>\n      <th>missingindicator_cloud_solar_azimuth_angle</th>\n      <th>missingindicator_cloud_solar_zenith_angle</th>\n    </tr>\n  </thead>\n  <tbody>\n    <tr>\n      <th>4465</th>\n      <td>-0.000296</td>\n      <td>0.546685</td>\n      <td>-0.000127</td>\n      <td>0.099959</td>\n      <td>-30.430300</td>\n      <td>34.109761</td>\n      <td>-144.938019</td>\n      <td>33.250667</td>\n      <td>-0.000052</td>\n      <td>12.0</td>\n      <td>...</td>\n      <td>1.0</td>\n      <td>1.0</td>\n      <td>1.0</td>\n      <td>1.0</td>\n      <td>1.0</td>\n      <td>1.0</td>\n      <td>1.0</td>\n      <td>1.0</td>\n      <td>1.0</td>\n      <td>1.0</td>\n    </tr>\n    <tr>\n      <th>4466</th>\n      <td>0.000199</td>\n      <td>0.655732</td>\n      <td>0.000131</td>\n      <td>0.246213</td>\n      <td>-100.957397</td>\n      <td>20.287094</td>\n      <td>-143.126312</td>\n      <td>35.352448</td>\n      <td>0.000060</td>\n      <td>1.0</td>\n      <td>...</td>\n      <td>1.0</td>\n      <td>1.0</td>\n      <td>1.0</td>\n      <td>1.0</td>\n      <td>1.0</td>\n      <td>1.0</td>\n      <td>1.0</td>\n      <td>1.0</td>\n      <td>1.0</td>\n      <td>1.0</td>\n    </tr>\n    <tr>\n      <th>4467</th>\n      <td>0.000094</td>\n      <td>0.574658</td>\n      <td>0.000042</td>\n      <td>0.091853</td>\n      <td>2.771948</td>\n      <td>33.960927</td>\n      <td>-151.817719</td>\n      <td>31.159751</td>\n      <td>0.000008</td>\n      <td>1.0</td>\n      <td>...</td>\n      <td>1.0</td>\n      <td>1.0</td>\n      <td>1.0</td>\n      <td>1.0</td>\n      <td>1.0</td>\n      <td>1.0</td>\n      <td>1.0</td>\n      <td>1.0</td>\n      <td>1.0</td>\n      <td>1.0</td>\n    </tr>\n    <tr>\n      <th>4468</th>\n      <td>-0.000241</td>\n      <td>0.602413</td>\n      <td>-0.000145</td>\n      <td>0.087655</td>\n      <td>72.435156</td>\n      <td>47.564489</td>\n      <td>-156.593798</td>\n      <td>30.301520</td>\n      <td>-0.000058</td>\n      <td>1.0</td>\n      <td>...</td>\n      <td>0.0</td>\n      <td>0.0</td>\n      <td>0.0</td>\n      <td>0.0</td>\n      <td>0.0</td>\n      <td>0.0</td>\n      <td>0.0</td>\n      <td>0.0</td>\n      <td>0.0</td>\n      <td>0.0</td>\n    </tr>\n    <tr>\n      <th>4469</th>\n      <td>0.001001</td>\n      <td>0.501419</td>\n      <td>0.000502</td>\n      <td>0.016993</td>\n      <td>70.093834</td>\n      <td>64.352905</td>\n      <td>-164.888031</td>\n      <td>28.559998</td>\n      <td>0.000172</td>\n      <td>1.0</td>\n      <td>...</td>\n      <td>1.0</td>\n      <td>1.0</td>\n      <td>1.0</td>\n      <td>1.0</td>\n      <td>1.0</td>\n      <td>1.0</td>\n      <td>1.0</td>\n      <td>1.0</td>\n      <td>1.0</td>\n      <td>1.0</td>\n    </tr>\n    <tr>\n      <th>4470</th>\n      <td>-0.000400</td>\n      <td>0.578403</td>\n      <td>-0.000231</td>\n      <td>0.040088</td>\n      <td>-102.182014</td>\n      <td>7.507707</td>\n      <td>-143.777054</td>\n      <td>32.169048</td>\n      <td>-0.000113</td>\n      <td>1.0</td>\n      <td>...</td>\n      <td>1.0</td>\n      <td>1.0</td>\n      <td>1.0</td>\n      <td>1.0</td>\n      <td>1.0</td>\n      <td>1.0</td>\n      <td>1.0</td>\n      <td>1.0</td>\n      <td>1.0</td>\n      <td>1.0</td>\n    </tr>\n    <tr>\n      <th>4471</th>\n      <td>-0.000088</td>\n      <td>0.535323</td>\n      <td>-0.000047</td>\n      <td>0.068317</td>\n      <td>74.470161</td>\n      <td>30.092440</td>\n      <td>-150.703400</td>\n      <td>29.415739</td>\n      <td>-0.000021</td>\n      <td>1.0</td>\n      <td>...</td>\n      <td>0.0</td>\n      <td>0.0</td>\n      <td>0.0</td>\n      <td>0.0</td>\n      <td>0.0</td>\n      <td>0.0</td>\n      <td>0.0</td>\n      <td>0.0</td>\n      <td>0.0</td>\n      <td>0.0</td>\n    </tr>\n    <tr>\n      <th>4472</th>\n      <td>-0.000048</td>\n      <td>0.526486</td>\n      <td>0.000002</td>\n      <td>0.085826</td>\n      <td>-30.898564</td>\n      <td>37.467444</td>\n      <td>-146.596866</td>\n      <td>32.902362</td>\n      <td>-0.000006</td>\n      <td>1.0</td>\n      <td>...</td>\n      <td>0.0</td>\n      <td>0.0</td>\n      <td>0.0</td>\n      <td>0.0</td>\n      <td>0.0</td>\n      <td>0.0</td>\n      <td>0.0</td>\n      <td>0.0</td>\n      <td>0.0</td>\n      <td>0.0</td>\n    </tr>\n    <tr>\n      <th>4473</th>\n      <td>-0.000951</td>\n      <td>0.361553</td>\n      <td>-0.000344</td>\n      <td>0.057521</td>\n      <td>-95.917404</td>\n      <td>65.097076</td>\n      <td>-130.489532</td>\n      <td>39.014580</td>\n      <td>-0.000126</td>\n      <td>1.0</td>\n      <td>...</td>\n      <td>0.0</td>\n      <td>0.0</td>\n      <td>0.0</td>\n      <td>0.0</td>\n      <td>0.0</td>\n      <td>0.0</td>\n      <td>0.0</td>\n      <td>0.0</td>\n      <td>0.0</td>\n      <td>0.0</td>\n    </tr>\n  </tbody>\n</table>\n<p>9 rows × 105 columns</p>\n</div>"
     },
     "execution_count": 159,
     "metadata": {},
     "output_type": "execute_result"
    }
   ],
   "source": [
    "imputed_dataset"
   ],
   "metadata": {
    "collapsed": false,
    "ExecuteTime": {
     "end_time": "2024-04-16T11:53:23.208409Z",
     "start_time": "2024-04-16T11:53:23.189471Z"
    }
   },
   "id": "abf792b551d9b77c",
   "execution_count": 159
  }
 ],
 "metadata": {
  "kernelspec": {
   "display_name": "Python 3",
   "language": "python",
   "name": "python3"
  },
  "language_info": {
   "codemirror_mode": {
    "name": "ipython",
    "version": 2
   },
   "file_extension": ".py",
   "mimetype": "text/x-python",
   "name": "python",
   "nbconvert_exporter": "python",
   "pygments_lexer": "ipython2",
   "version": "2.7.6"
  }
 },
 "nbformat": 4,
 "nbformat_minor": 5
}
